{
 "cells": [
  {
   "cell_type": "code",
   "execution_count": 1,
   "metadata": {},
   "outputs": [],
   "source": [
    "# https://www.worldometers.info/coronavirus/country/us/\n",
    "\n",
    "import os\n",
    "os.getcwd()\n",
    "os.chdir('/Users/lisun/ARIMA/USA')"
   ]
  },
  {
   "cell_type": "code",
   "execution_count": 2,
   "metadata": {},
   "outputs": [
    {
     "data": {
      "text/html": [
       "        <script type=\"text/javascript\">\n",
       "        window.PlotlyConfig = {MathJaxConfig: 'local'};\n",
       "        if (window.MathJax) {MathJax.Hub.Config({SVG: {font: \"STIX-Web\"}});}\n",
       "        if (typeof require !== 'undefined') {\n",
       "        require.undef(\"plotly\");\n",
       "        requirejs.config({\n",
       "            paths: {\n",
       "                'plotly': ['https://cdn.plot.ly/plotly-latest.min']\n",
       "            }\n",
       "        });\n",
       "        require(['plotly'], function(Plotly) {\n",
       "            window._Plotly = Plotly;\n",
       "        });\n",
       "        }\n",
       "        </script>\n",
       "        "
      ]
     },
     "metadata": {},
     "output_type": "display_data"
    }
   ],
   "source": [
    "import pandas as pd\n",
    "import numpy as np\n",
    "\n",
    "import matplotlib.pyplot as plt\n",
    "import plotly.plotly as py\n",
    "import plotly.graph_objs as go\n",
    "import plotly.offline as off\n",
    "off.init_notebook_mode(connected=True)\n",
    "\n",
    "from datetime import date\n",
    "from datetime import datetime\n",
    "\n",
    "from statsmodels.tsa.stattools import adfuller\n",
    "from statsmodels.tsa.arima_model import ARIMA\n",
    "import statsmodels.api as sm\n",
    "from statsmodels.graphics.api import qqplot\n",
    "\n",
    "\n",
    "import warnings\n",
    "warnings.filterwarnings(\"ignore\")\n"
   ]
  },
  {
   "cell_type": "code",
   "execution_count": 3,
   "metadata": {},
   "outputs": [],
   "source": [
    "confirmed_Global=pd.read_csv('confirmed_Global.csv')\n",
    "confirmed_USA=pd.read_csv('confirmed_USA_state.csv')\n",
    "confirmed_Global.drop('Unnamed: 0', axis=1, inplace=True)\n",
    "confirmed_USA.drop('Unnamed: 0', axis=1, inplace=True)"
   ]
  },
  {
   "cell_type": "code",
   "execution_count": 6,
   "metadata": {},
   "outputs": [],
   "source": [
    "df_UnitedStates = confirmed_Global[confirmed_Global['Country/Region']=='United States']\n",
    "df_Italy = confirmed_Global[confirmed_Global['Country/Region']=='Italy']\n",
    "df_USA_NY = confirmed_USA[confirmed_USA['Province/State']=='New York']\n",
    "df_USA_CA = confirmed_USA[confirmed_USA['Province/State']=='California']\n",
    "df_USA_NJ = confirmed_USA[confirmed_USA['Province/State']=='New Jersey']\n",
    "df_USA_GA = confirmed_USA[confirmed_USA['Province/State']=='Georgia']"
   ]
  },
  {
   "cell_type": "code",
   "execution_count": 4,
   "metadata": {
    "scrolled": true
   },
   "outputs": [],
   "source": [
    "def stackDF(df):\n",
    "    namelist = ['Province/State','Country/Region','Lat','Long',' Population ','region']\n",
    "    new_df=df.drop(namelist, axis=1).reset_index(drop=True).stack().reset_index()\n",
    "    new_df.drop('level_0', axis=1, inplace=True)\n",
    "    new_df['level_1']=new_df['level_1'].apply(lambda x: datetime.strptime(x,'%m/%d/%y').date())\n",
    "    new_df.set_index('level_1', inplace=True)\n",
    "    new_df.rename(columns={new_df.columns[0]: 'confirmed'}, inplace=True)\n",
    "    new_df.index.names=['Date']\n",
    "    \n",
    "    return new_df"
   ]
  },
  {
   "cell_type": "code",
   "execution_count": 7,
   "metadata": {},
   "outputs": [],
   "source": [
    "UnitedStates=stackDF(df_UnitedStates)\n",
    "Italy=stackDF(df_Italy)\n",
    "USA_NY=stackDF(df_USA_NY)\n",
    "USA_CA=stackDF(df_USA_CA)\n",
    "USA_NJ=stackDF(df_USA_NJ)\n",
    "USA_GA=stackDF(df_USA_GA)"
   ]
  },
  {
   "cell_type": "code",
   "execution_count": 8,
   "metadata": {},
   "outputs": [],
   "source": [
    "df=UnitedStates.copy()\n",
    "# df=USA_GA.copy()\n",
    "# df=USA_NY.copy()\n",
    "# df = Italy.copy()"
   ]
  },
  {
   "cell_type": "code",
   "execution_count": 11,
   "metadata": {},
   "outputs": [],
   "source": [
    "from datetime import date\n",
    "def get_imageName(prefix):\n",
    "    return prefix +'_'+str(date.today())"
   ]
  },
  {
   "cell_type": "code",
   "execution_count": 15,
   "metadata": {},
   "outputs": [
    {
     "data": {
      "application/vnd.plotly.v1+json": {
       "config": {
        "linkText": "Export to plot.ly",
        "plotlyServerURL": "https://plot.ly",
        "showLink": false
       },
       "data": [
        {
         "type": "bar",
         "uid": "969a6219-c0ca-4012-80dc-aa5e9992e701",
         "x": [
          "2020-01-22",
          "2020-01-23",
          "2020-01-24",
          "2020-01-25",
          "2020-01-26",
          "2020-01-27",
          "2020-01-28",
          "2020-01-29",
          "2020-01-30",
          "2020-01-31",
          "2020-02-01",
          "2020-02-02",
          "2020-02-03",
          "2020-02-04",
          "2020-02-05",
          "2020-02-06",
          "2020-02-07",
          "2020-02-08",
          "2020-02-09",
          "2020-02-10",
          "2020-02-11",
          "2020-02-12",
          "2020-02-13",
          "2020-02-14",
          "2020-02-15",
          "2020-02-16",
          "2020-02-17",
          "2020-02-18",
          "2020-02-19",
          "2020-02-20",
          "2020-02-21",
          "2020-02-22",
          "2020-02-23",
          "2020-02-24",
          "2020-02-25",
          "2020-02-26",
          "2020-02-27",
          "2020-02-28",
          "2020-02-29",
          "2020-03-01",
          "2020-03-02",
          "2020-03-03",
          "2020-03-04",
          "2020-03-05",
          "2020-03-06",
          "2020-03-07",
          "2020-03-08",
          "2020-03-09",
          "2020-03-10",
          "2020-03-11",
          "2020-03-12",
          "2020-03-13",
          "2020-03-14",
          "2020-03-15",
          "2020-03-16",
          "2020-03-17",
          "2020-03-18",
          "2020-03-19",
          "2020-03-20",
          "2020-03-21",
          "2020-03-22"
         ],
         "y": [
          1,
          1,
          2,
          2,
          5,
          5,
          5,
          5,
          5,
          7,
          8,
          8,
          11,
          11,
          11,
          11,
          11,
          11,
          11,
          11,
          12,
          12,
          13,
          13,
          13,
          13,
          13,
          13,
          13,
          13,
          15,
          15,
          15,
          51,
          51,
          57,
          58,
          60,
          68,
          74,
          98,
          118,
          149,
          217,
          262,
          402,
          518,
          583,
          959,
          1281,
          1663,
          2179,
          2727,
          3499,
          4632,
          6421,
          7783,
          13677,
          19100,
          25489,
          33272
         ]
        }
       ],
       "layout": {
        "title": {
         "text": "The Confirmed COVID-19 Cases in USA"
        },
        "xaxis": {
         "automargin": true,
         "tickangle": -45,
         "tickfont": {
          "size": 8
         },
         "title": {
          "font": {
           "color": "black"
          },
          "text": "Date"
         }
        },
        "yaxis": {
         "title": {
          "font": {
           "color": "black"
          },
          "text": "Confirmed Cases"
         }
        }
       }
      },
      "text/html": [
       "<div>\n",
       "        \n",
       "        \n",
       "            <div id=\"5824fb96-19ff-4490-bc50-2f1c578a1070\" class=\"plotly-graph-div\" style=\"height:525px; width:100%;\"></div>\n",
       "            <script type=\"text/javascript\">\n",
       "                require([\"plotly\"], function(Plotly) {\n",
       "                    window.PLOTLYENV=window.PLOTLYENV || {};\n",
       "                    window.PLOTLYENV.BASE_URL='https://plot.ly';\n",
       "                    \n",
       "                if (document.getElementById(\"5824fb96-19ff-4490-bc50-2f1c578a1070\")) {\n",
       "                    Plotly.newPlot(\n",
       "                        '5824fb96-19ff-4490-bc50-2f1c578a1070',\n",
       "                        [{\"type\": \"bar\", \"uid\": \"969a6219-c0ca-4012-80dc-aa5e9992e701\", \"x\": [\"2020-01-22\", \"2020-01-23\", \"2020-01-24\", \"2020-01-25\", \"2020-01-26\", \"2020-01-27\", \"2020-01-28\", \"2020-01-29\", \"2020-01-30\", \"2020-01-31\", \"2020-02-01\", \"2020-02-02\", \"2020-02-03\", \"2020-02-04\", \"2020-02-05\", \"2020-02-06\", \"2020-02-07\", \"2020-02-08\", \"2020-02-09\", \"2020-02-10\", \"2020-02-11\", \"2020-02-12\", \"2020-02-13\", \"2020-02-14\", \"2020-02-15\", \"2020-02-16\", \"2020-02-17\", \"2020-02-18\", \"2020-02-19\", \"2020-02-20\", \"2020-02-21\", \"2020-02-22\", \"2020-02-23\", \"2020-02-24\", \"2020-02-25\", \"2020-02-26\", \"2020-02-27\", \"2020-02-28\", \"2020-02-29\", \"2020-03-01\", \"2020-03-02\", \"2020-03-03\", \"2020-03-04\", \"2020-03-05\", \"2020-03-06\", \"2020-03-07\", \"2020-03-08\", \"2020-03-09\", \"2020-03-10\", \"2020-03-11\", \"2020-03-12\", \"2020-03-13\", \"2020-03-14\", \"2020-03-15\", \"2020-03-16\", \"2020-03-17\", \"2020-03-18\", \"2020-03-19\", \"2020-03-20\", \"2020-03-21\", \"2020-03-22\"], \"y\": [1, 1, 2, 2, 5, 5, 5, 5, 5, 7, 8, 8, 11, 11, 11, 11, 11, 11, 11, 11, 12, 12, 13, 13, 13, 13, 13, 13, 13, 13, 15, 15, 15, 51, 51, 57, 58, 60, 68, 74, 98, 118, 149, 217, 262, 402, 518, 583, 959, 1281, 1663, 2179, 2727, 3499, 4632, 6421, 7783, 13677, 19100, 25489, 33272]}],\n",
       "                        {\"title\": {\"text\": \"The Confirmed COVID-19 Cases in USA\"}, \"xaxis\": {\"automargin\": true, \"tickangle\": -45, \"tickfont\": {\"size\": 8}, \"title\": {\"font\": {\"color\": \"black\"}, \"text\": \"Date\"}}, \"yaxis\": {\"title\": {\"font\": {\"color\": \"black\"}, \"text\": \"Confirmed Cases\"}}},\n",
       "                        {\"showLink\": false, \"linkText\": \"Export to plot.ly\", \"plotlyServerURL\": \"https://plot.ly\", \"responsive\": true}\n",
       "                    ).then(function(){\n",
       "                            \n",
       "var gd = document.getElementById('5824fb96-19ff-4490-bc50-2f1c578a1070');\n",
       "var x = new MutationObserver(function (mutations, observer) {{\n",
       "        var display = window.getComputedStyle(gd).display;\n",
       "        if (!display || display === 'none') {{\n",
       "            console.log([gd, 'removed!']);\n",
       "            Plotly.purge(gd);\n",
       "            observer.disconnect();\n",
       "        }}\n",
       "}});\n",
       "\n",
       "// Listen for the removal of the full notebook cells\n",
       "var notebookContainer = gd.closest('#notebook-container');\n",
       "if (notebookContainer) {{\n",
       "    x.observe(notebookContainer, {childList: true});\n",
       "}}\n",
       "\n",
       "// Listen for the clearing of the current output cell\n",
       "var outputEl = gd.closest('.output');\n",
       "if (outputEl) {{\n",
       "    x.observe(outputEl, {childList: true});\n",
       "}}\n",
       "\n",
       "                        })\n",
       "                };\n",
       "                });\n",
       "            </script>\n",
       "        </div>"
      ]
     },
     "metadata": {},
     "output_type": "display_data"
    }
   ],
   "source": [
    "data = [go.Bar(x=df.index,y=df['confirmed'])]\n",
    "layout = go.Layout(\n",
    "    title= \"The Confirmed COVID-19 Cases in USA\",\n",
    "    yaxis=dict(\n",
    "        title= dict(text = 'Confirmed Cases', font = dict(color = 'black'))      \n",
    "    ),\n",
    "    xaxis=dict(\n",
    "        title= dict(text = 'Date',font = dict(color = 'black')),\n",
    "        tickangle = -45,\n",
    "        tickfont=dict(size = 8),\n",
    "        automargin=True\n",
    "    )\n",
    ")\n",
    "\n",
    "fig = go.Figure(data=data, layout=layout)\n",
    "fig.write_html('Plots/'+ get_imageName('USA')+'.html')    # save as html file\n",
    "fig.write_image('Plots/'+ get_imageName('USA')+'.pdf')    # save as image file\n",
    "off.iplot(fig)"
   ]
  },
  {
   "cell_type": "markdown",
   "metadata": {},
   "source": [
    "## Determine if the Data is Stationary"
   ]
  },
  {
   "cell_type": "markdown",
   "metadata": {},
   "source": [
    "There are two primary way to determine whether a given time series is stationary\n",
    "\n",
    "1. Rolling Statistics\n",
    "2. Augmented Dickey-Fuller Test"
   ]
  },
  {
   "cell_type": "code",
   "execution_count": 11,
   "metadata": {},
   "outputs": [],
   "source": [
    "def get_stationarity(timeseries, N, name):\n",
    "    # rolling statistics\n",
    "    rolling_mean = timeseries.rolling(window=N).mean()\n",
    "    rolling_std = timeseries.rolling(window=N).std()\n",
    "    \n",
    "    # rolling statistics plot\n",
    "    plt.figure(figsize=(12, 3))\n",
    "    original = plt.plot(timeseries, color='blue', label='Original')\n",
    "    mean = plt.plot(rolling_mean, color='red', label='Rolling Mean')\n",
    "    std = plt.plot(rolling_std, color='black', label='Rolling Std')\n",
    "    plt.legend(loc='best')\n",
    "    plt.title('Rolling Mean & SD - '+name)\n",
    "#     plt.savefig('Rolling Statistics/'+name+'.pdf')\n",
    "    plt.show(block=False)\n",
    "    \n",
    "    \n",
    "    # Dickey-Fuller test:\n",
    "    result = adfuller(timeseries['confirmed'])\n",
    "    \n",
    "    f = open('Rolling Statistics/'+name +'1.txt', 'w')\n",
    "    print(result, file = f)\n",
    "#     f.write(result)      #T ypeError: write() argument must be str, not tuple\n",
    "    f.close()\n",
    "    \n",
    "    print(\" > Is the data stationary ?\")\n",
    "    print('ADF Statistics = {:.4f}'.format(result[0]))\n",
    "    print('p-value = {:.4f}'.format(result[1]))\n",
    "    print('Critical Values:')\n",
    "    for k, v in result[4].items():  \n",
    "        print(\"\\t{}: {} - The data is {} stationary with {}% confidence\".format(k, v, \"NOT\" if v<result[0] else \"\", 100-int(k[:-1])))"
   ]
  },
  {
   "cell_type": "markdown",
   "metadata": {},
   "source": [
    "### Rolling Statistics"
   ]
  },
  {
   "cell_type": "markdown",
   "metadata": {},
   "source": [
    "1. Original Series\n",
    "2. Subtract Rolling Mean\n",
    "3. De-trending \n",
    "4. Differencing "
   ]
  },
  {
   "cell_type": "markdown",
   "metadata": {},
   "source": [
    "#### 1. Original Series"
   ]
  },
  {
   "cell_type": "code",
   "execution_count": 13,
   "metadata": {},
   "outputs": [
    {
     "data": {
      "image/png": "[encoded data removed]",
      "text/plain": [
       "<Figure size 864x216 with 1 Axes>"
      ]
     },
     "metadata": {
      "needs_background": "light"
     },
     "output_type": "display_data"
    },
    {
     "name": "stdout",
     "output_type": "stream",
     "text": [
      " > Is the data stationary ?\n",
      "ADF Statistics = 3.4268\n",
      "p-value = 1.0000\n",
      "Critical Values:\n",
      "\t1%: -3.5714715250448363 - The data is NOT stationary with 99% confidence\n",
      "\t5%: -2.922629480573571 - The data is NOT stationary with 95% confidence\n",
      "\t10%: -2.5993358475635153 - The data is NOT stationary with 90% confidence\n"
     ]
    }
   ],
   "source": [
    "N = 3\n",
    "\n",
    "get_stationarity(df,N, 'Original Series')"
   ]
  },
  {
   "cell_type": "markdown",
   "metadata": {},
   "source": [
    "#### 2. Subtract Rolling Mean"
   ]
  },
  {
   "cell_type": "code",
   "execution_count": 11,
   "metadata": {},
   "outputs": [
    {
     "data": {
      "image/png": "[encoded data removed]",
      "text/plain": [
       "<Figure size 864x216 with 1 Axes>"
      ]
     },
     "metadata": {
      "needs_background": "light"
     },
     "output_type": "display_data"
    },
    {
     "name": "stdout",
     "output_type": "stream",
     "text": [
      " > Is the data stationary ?\n",
      "ADF Statistics = 3.6937\n",
      "p-value = 1.0000\n",
      "Critical Values:\n",
      "\t1%: -3.5778480370438146 - The data is NOT stationary with 99% confidence\n",
      "\t5%: -2.925338105429433 - The data is NOT stationary with 95% confidence\n",
      "\t10%: -2.6007735310095064 - The data is NOT stationary with 90% confidence\n"
     ]
    }
   ],
   "source": [
    "rolling_mean = df.rolling(window=N).mean()\n",
    "rolling_std = df.rolling(window=N).std()\n",
    "\n",
    "df_minus_mean=df-rolling_mean\n",
    "df_minus_mean.dropna(inplace=True)\n",
    "\n",
    "get_stationarity(df_minus_mean,N, 'Subtract Rolling_Mean')"
   ]
  },
  {
   "cell_type": "markdown",
   "metadata": {},
   "source": [
    "#### 3. De-Trending"
   ]
  },
  {
   "cell_type": "code",
   "execution_count": 12,
   "metadata": {},
   "outputs": [
    {
     "data": {
      "image/png": "[encoded data removed]",
      "text/plain": [
       "<Figure size 864x216 with 1 Axes>"
      ]
     },
     "metadata": {
      "needs_background": "light"
     },
     "output_type": "display_data"
    },
    {
     "name": "stdout",
     "output_type": "stream",
     "text": [
      " > Is the data stationary ?\n",
      "ADF Statistics = -1.3933\n",
      "p-value = 0.5855\n",
      "Critical Values:\n",
      "\t1%: -3.6055648906249997 - The data is NOT stationary with 99% confidence\n",
      "\t5%: -2.937069375 - The data is NOT stationary with 95% confidence\n",
      "\t10%: -2.606985625 - The data is NOT stationary with 90% confidence\n"
     ]
    }
   ],
   "source": [
    "df_DeTrending=(df-rolling_mean)/rolling_std\n",
    "df_DeTrending.dropna(inplace=True)\n",
    "\n",
    "get_stationarity(df_DeTrending,N, 'De-Trending')"
   ]
  },
  {
   "cell_type": "markdown",
   "metadata": {},
   "source": [
    "#### 4. Differencing"
   ]
  },
  {
   "cell_type": "code",
   "execution_count": 13,
   "metadata": {},
   "outputs": [
    {
     "data": {
      "image/png": "[encoded data removed]",
      "text/plain": [
       "<Figure size 864x216 with 1 Axes>"
      ]
     },
     "metadata": {
      "needs_background": "light"
     },
     "output_type": "display_data"
    },
    {
     "name": "stdout",
     "output_type": "stream",
     "text": [
      " > Is the data stationary ?\n",
      "ADF Statistics = 25.7910\n",
      "p-value = 1.0000\n",
      "Critical Values:\n",
      "\t1%: -3.5656240522121956 - The data is NOT stationary with 99% confidence\n",
      "\t5%: -2.920142229157715 - The data is NOT stationary with 95% confidence\n",
      "\t10%: -2.598014675124952 - The data is NOT stationary with 90% confidence\n"
     ]
    }
   ],
   "source": [
    "df_differencing=df-df.shift(1)      # same as df.diff(1)\n",
    "\n",
    "df_differencing.dropna(inplace=True)\n",
    "\n",
    "get_stationarity(df_differencing,N, 'Differencing')"
   ]
  },
  {
   "cell_type": "markdown",
   "metadata": {},
   "source": [
    "The rolling mean and rolling std increase with time. So the time series is NOT stationary\n",
    "\n",
    "All ADF Statistics are far from critical values (if the ADF test is positive, automatically decided NOT to reject the NULL hypothesis), and the p-values are greater than the threshold(0.05)\n",
    "\n",
    "Conclusion: the time series are NOT stationary"
   ]
  },
  {
   "cell_type": "markdown",
   "metadata": {},
   "source": [
    "## Apply transformation to render it stationary\n",
    "### Log the data to lower increasing"
   ]
  },
  {
   "cell_type": "markdown",
   "metadata": {},
   "source": [
    "Taking the log of the dependent variable is simple way of lowering the rate at which rolling mean increase\n",
    "1. Log\n",
    "2. Subtract Rolling Mean\n",
    "3. Exponential decay\n",
    "4. Differencing"
   ]
  },
  {
   "cell_type": "markdown",
   "metadata": {},
   "source": [
    "#### 1. Log"
   ]
  },
  {
   "cell_type": "code",
   "execution_count": 14,
   "metadata": {},
   "outputs": [
    {
     "data": {
      "image/png": "[encoded data removed]",
      "text/plain": [
       "<Figure size 864x216 with 1 Axes>"
      ]
     },
     "metadata": {
      "needs_background": "light"
     },
     "output_type": "display_data"
    },
    {
     "name": "stdout",
     "output_type": "stream",
     "text": [
      " > Is the data stationary ?\n",
      "ADF Statistics = 2.0852\n",
      "p-value = 0.9988\n",
      "Critical Values:\n",
      "\t1%: -3.5443688564814813 - The data is NOT stationary with 99% confidence\n",
      "\t5%: -2.9110731481481484 - The data is NOT stationary with 95% confidence\n",
      "\t10%: -2.5931902777777776 - The data is NOT stationary with 90% confidence\n"
     ]
    }
   ],
   "source": [
    "df_log = np.log(df)\n",
    "\n",
    "get_stationarity(df_log,N, 'Logged Series')"
   ]
  },
  {
   "cell_type": "markdown",
   "metadata": {},
   "source": [
    "#### 2. Subtract Rolling Mean"
   ]
  },
  {
   "cell_type": "code",
   "execution_count": 15,
   "metadata": {},
   "outputs": [
    {
     "data": {
      "image/png": "[encoded data removed]",
      "text/plain": [
       "<Figure size 864x216 with 1 Axes>"
      ]
     },
     "metadata": {
      "needs_background": "light"
     },
     "output_type": "display_data"
    },
    {
     "name": "stdout",
     "output_type": "stream",
     "text": [
      " > Is the data stationary ?\n",
      "ADF Statistics = -4.3615\n",
      "p-value = 0.0003\n",
      "Critical Values:\n",
      "\t1%: -3.548493559596539 - The data is  stationary with 99% confidence\n",
      "\t5%: -2.912836594776334 - The data is  stationary with 95% confidence\n",
      "\t10%: -2.594129155766944 - The data is  stationary with 90% confidence\n"
     ]
    }
   ],
   "source": [
    "rolling_log_mean = df_log.rolling(window=N).mean()\n",
    "rolling_log_std = df_log.rolling(window=N).std() # have value 0\n",
    "\n",
    "df_log_minus_mean=df_log-rolling_log_mean\n",
    "df_log_minus_mean.dropna(inplace=True)\n",
    "\n",
    "get_stationarity(df_log_minus_mean,N, 'Log: Subtract Rolling_log_Mean')"
   ]
  },
  {
   "cell_type": "markdown",
   "metadata": {},
   "source": [
    "###### After subtraction the mean, the rolling mean and standard deviation are approximately parallel and horizontal ( the vertical unit of coordination is small). The p-value is below the threshold of 0.01, and the ADF statistics is close to the critical values. Therefore, the time series is stationary. "
   ]
  },
  {
   "cell_type": "markdown",
   "metadata": {},
   "source": [
    "#### 3. Exponential decay"
   ]
  },
  {
   "cell_type": "code",
   "execution_count": 16,
   "metadata": {},
   "outputs": [
    {
     "data": {
      "image/png": "[encoded data removed]",
      "text/plain": [
       "<Figure size 864x216 with 1 Axes>"
      ]
     },
     "metadata": {
      "needs_background": "light"
     },
     "output_type": "display_data"
    },
    {
     "name": "stdout",
     "output_type": "stream",
     "text": [
      " > Is the data stationary ?\n",
      "ADF Statistics = -1.6643\n",
      "p-value = 0.4496\n",
      "Critical Values:\n",
      "\t1%: -3.5443688564814813 - The data is NOT stationary with 99% confidence\n",
      "\t5%: -2.9110731481481484 - The data is NOT stationary with 95% confidence\n",
      "\t10%: -2.5931902777777776 - The data is NOT stationary with 90% confidence\n"
     ]
    }
   ],
   "source": [
    "rolling_mean_exp_decay = df_log.ewm(halflife=N, min_periods=0, adjust=True).mean()\n",
    "df_log_exp_decay = df_log - rolling_mean_exp_decay\n",
    "df_log_exp_decay.dropna(inplace=True)\n",
    "\n",
    "get_stationarity(df_log_exp_decay,N,'Log: Exponential Decay')"
   ]
  },
  {
   "cell_type": "markdown",
   "metadata": {},
   "source": [
    "#### 4. Differencing"
   ]
  },
  {
   "cell_type": "code",
   "execution_count": 17,
   "metadata": {},
   "outputs": [
    {
     "data": {
      "image/png": "[encoded data removed]",
      "text/plain": [
       "<Figure size 864x216 with 1 Axes>"
      ]
     },
     "metadata": {
      "needs_background": "light"
     },
     "output_type": "display_data"
    },
    {
     "name": "stdout",
     "output_type": "stream",
     "text": [
      " > Is the data stationary ?\n",
      "ADF Statistics = -3.0216\n",
      "p-value = 0.0329\n",
      "Critical Values:\n",
      "\t1%: -3.5506699942762414 - The data is NOT stationary with 99% confidence\n",
      "\t5%: -2.913766394626147 - The data is  stationary with 95% confidence\n",
      "\t10%: -2.5946240473991997 - The data is  stationary with 90% confidence\n"
     ]
    }
   ],
   "source": [
    "df_log_shift = df_log-df_log.shift(1) # same as df_log.diff(1)\n",
    "df_log_shift.dropna(inplace = True)\n",
    "\n",
    "get_stationarity(df_log_shift,N,'Log: Differencing')"
   ]
  },
  {
   "cell_type": "markdown",
   "metadata": {},
   "source": [
    "##### The shifting performed worse than subtracting the rolling mean. However it is still more stationary than the original."
   ]
  },
  {
   "cell_type": "markdown",
   "metadata": {},
   "source": [
    "## ARIMA (aka Box-Jenkins)"
   ]
  },
  {
   "cell_type": "markdown",
   "metadata": {},
   "source": [
    "Three integers (p, d, q) are typically used to parametrize ARIMA models.\n",
    "\n",
    "p: number of autoregressive terms (AR order)\n",
    "\n",
    "d: number of nonseasonal differences (differencing order)\n",
    "\n",
    "q: number of moving-average terms (MA order)"
   ]
  },
  {
   "cell_type": "markdown",
   "metadata": {},
   "source": [
    "### ACF and PACF \n",
    "An autocorrelation (ACF) plot represents the autocorrelation of the series with lags of itself. \n",
    "\n",
    "A partial autocorrelation (PACF) plot represents the amount of correlation between a series and a lag of itself that is not explained by correlations at all lower-order lags.\n",
    "\n",
    "Ideally, we want no correlation between the series and lags of itself. \n",
    "\n",
    "Graphically speaking, we would like all the spikes to fall in the blue region"
   ]
  },
  {
   "cell_type": "code",
   "execution_count": 17,
   "metadata": {},
   "outputs": [
    {
     "data": {
      "image/png": "[encoded data removed]",
      "text/plain": [
       "<Figure size 864x576 with 2 Axes>"
      ]
     },
     "metadata": {
      "needs_background": "light"
     },
     "output_type": "display_data"
    }
   ],
   "source": [
    "fig = plt.figure(figsize = (12, 8))\n",
    "ax1 = fig.add_subplot(211)\n",
    "fig = sm.graphics.tsa.plot_acf(df_log_minus_mean.values.squeeze(),\n",
    "                              lags = 25, ax = ax1)\n",
    "ax2 = fig.add_subplot(212)\n",
    "fig = sm.graphics.tsa.plot_pacf(df_log_minus_mean.values.squeeze(),\n",
    "                               lags = 25, ax = ax2)\n",
    "plt.savefig('ARIMA/ACFandPACF_USA.pdf')\n",
    "plt.show()"
   ]
  },
  {
   "cell_type": "markdown",
   "metadata": {},
   "source": [
    "### 1. Choosing the differencing order\n",
    "— Rule 1 : If the series has positive autocorrelations out to a high number of lags, then it probably needs a higher order of differencing. \n",
    "\n",
    "— Rule 2 : If the lag-1 autocorrelation is zero or negative, or the autocorrelations are all small and patternless, then the series does not need a higher order of differencing. If the lag-1 autocorrelation is -0.5 or more negative, the series may be overdifferenced.\n",
    "\n",
    "(Robert Nau, Statistical Forecasting)"
   ]
  },
  {
   "cell_type": "code",
   "execution_count": 16,
   "metadata": {},
   "outputs": [
    {
     "name": "stdout",
     "output_type": "stream",
     "text": [
      "                              ARMA Model Results                              \n",
      "==============================================================================\n",
      "Dep. Variable:              confirmed   No. Observations:                   59\n",
      "Model:                     ARMA(0, 0)   Log Likelihood                  19.339\n",
      "Method:                           css   S.D. of innovations              0.174\n",
      "Date:                Thu, 16 Apr 2020   AIC                            -34.677\n",
      "Time:                        20:56:40   BIC                            -30.522\n",
      "Sample:                    01-24-2020   HQIC                           -33.055\n",
      "                         - 03-22-2020                                         \n",
      "==============================================================================\n",
      "                 coef    std err          z      P>|z|      [0.025      0.975]\n",
      "------------------------------------------------------------------------------\n",
      "const          0.1750      0.023      7.709      0.000       0.130       0.219\n",
      "==============================================================================\n",
      "                             ARIMA Model Results                              \n",
      "==============================================================================\n",
      "Dep. Variable:            D.confirmed   No. Observations:                   58\n",
      "Model:                 ARIMA(0, 1, 0)   Log Likelihood                  20.797\n",
      "Method:                           css   S.D. of innovations              0.169\n",
      "Date:                Thu, 16 Apr 2020   AIC                            -37.594\n",
      "Time:                        20:56:40   BIC                            -33.473\n",
      "Sample:                    01-25-2020   HQIC                           -35.989\n",
      "                         - 03-22-2020                                         \n",
      "==============================================================================\n",
      "                 coef    std err          z      P>|z|      [0.025      0.975]\n",
      "------------------------------------------------------------------------------\n",
      "const         -0.0032      0.022     -0.146      0.884      -0.047       0.040\n",
      "==============================================================================\n",
      "ARIMA(0,0,0): AIC = -34.67701343171325\n",
      "ARIMA(0,1,0): AIC = -37.594093466384365\n"
     ]
    },
    {
     "data": {
      "image/png": "[encoded data removed]",
      "text/plain": [
       "<Figure size 864x432 with 2 Axes>"
      ]
     },
     "metadata": {
      "needs_background": "light"
     },
     "output_type": "display_data"
    }
   ],
   "source": [
    "model = ARIMA(df_log_minus_mean.dropna(), (0, 0, 0))\n",
    "res_000 = model.fit()\n",
    "print(res_000.summary())\n",
    "\n",
    "model = ARIMA(df_log_minus_mean.dropna(), (0, 1, 0))\n",
    "res_010 = model.fit()\n",
    "print(res_010.summary())\n",
    "\n",
    "\n",
    "fig, ax = plt.subplots(1, 2, sharey=True, figsize=(12, 6))\n",
    "ax[0].plot(res_000.resid.values, alpha=0.7, label='variance={:.3f}'.format(np.std(res_000.resid.values)));\n",
    "ax[0].hlines(0, xmin=0, xmax=70, color='r');\n",
    "ax[0].set_title(\"ARIMA(0,0,0)\");\n",
    "ax[0].legend();\n",
    "ax[1].plot(res_010.resid.values, alpha=0.7, label='variance={:.3f}'.format(np.std(res_010.resid.values)));\n",
    "ax[1].hlines(0, xmin=0, xmax=70, color='r');\n",
    "ax[1].set_title(\"ARIMA(0,1,0)\");\n",
    "ax[1].legend();\n",
    "\n",
    "\n",
    "print('ARIMA(0,0,0): AIC = '+ str(res_000.aic))\n",
    "print('ARIMA(0,1,0): AIC = '+ str(res_010.aic))"
   ]
  },
  {
   "cell_type": "markdown",
   "metadata": {},
   "source": [
    "#### Check results by comparing a (0,0,0) and a( 0, 1, 0) ARIMA model"
   ]
  },
  {
   "cell_type": "markdown",
   "metadata": {},
   "source": [
    "ARIMA(0,1,0) has lowered both the AIC and variance, meaning this model is performing better than the ARIMA(0,0,0)"
   ]
  },
  {
   "cell_type": "markdown",
   "metadata": {},
   "source": [
    "### 2. Choosing the MA order\n",
    "If the lag-1 autocorrelation of the differenced series ACF is negative, and/or there is a sharp cutoff, then choose a MA order of 1\n",
    "\n",
    "usually not recommended to go beyond 2"
   ]
  },
  {
   "cell_type": "markdown",
   "metadata": {},
   "source": [
    "### 3. Choosing the AR order\n",
    "If the lag-1 autocorrelation of the differenced series PACF is negative, and/or there is a sharp cutoff, then choose a AR order of 1."
   ]
  },
  {
   "cell_type": "markdown",
   "metadata": {},
   "source": [
    "### 4. Choosing the best parameters "
   ]
  },
  {
   "cell_type": "code",
   "execution_count": 20,
   "metadata": {},
   "outputs": [
    {
     "name": "stdout",
     "output_type": "stream",
     "text": [
      "                              ARMA Model Results                              \n",
      "==============================================================================\n",
      "Dep. Variable:              confirmed   No. Observations:                   59\n",
      "Model:                     ARMA(0, 1)   Log Likelihood                  27.406\n",
      "Method:                       css-mle   S.D. of innovations              0.152\n",
      "Date:                Mon, 30 Mar 2020   AIC                            -48.812\n",
      "Time:                        01:18:43   BIC                            -42.579\n",
      "Sample:                    01-24-2020   HQIC                           -46.379\n",
      "                         - 03-22-2020                                         \n",
      "===================================================================================\n",
      "                      coef    std err          z      P>|z|      [0.025      0.975]\n",
      "-----------------------------------------------------------------------------------\n",
      "const               0.1787      0.030      5.882      0.000       0.119       0.238\n",
      "ma.L1.confirmed     0.5480      0.132      4.147      0.000       0.289       0.807\n",
      "                                    Roots                                    \n",
      "=============================================================================\n",
      "                  Real          Imaginary           Modulus         Frequency\n",
      "-----------------------------------------------------------------------------\n",
      "MA.1           -1.8247           +0.0000j            1.8247            0.5000\n",
      "-----------------------------------------------------------------------------\n",
      "                              ARMA Model Results                              \n",
      "==============================================================================\n",
      "Dep. Variable:              confirmed   No. Observations:                   59\n",
      "Model:                     ARMA(1, 1)   Log Likelihood                  28.901\n",
      "Method:                       css-mle   S.D. of innovations              0.148\n",
      "Date:                Mon, 30 Mar 2020   AIC                            -49.802\n",
      "Time:                        01:18:43   BIC                            -41.492\n",
      "Sample:                    01-24-2020   HQIC                           -46.558\n",
      "                         - 03-22-2020                                         \n",
      "===================================================================================\n",
      "                      coef    std err          z      P>|z|      [0.025      0.975]\n",
      "-----------------------------------------------------------------------------------\n",
      "const               0.1855      0.047      3.977      0.000       0.094       0.277\n",
      "ar.L1.confirmed     0.6759      0.238      2.842      0.006       0.210       1.142\n",
      "ma.L1.confirmed    -0.2069      0.336     -0.617      0.540      -0.865       0.451\n",
      "                                    Roots                                    \n",
      "=============================================================================\n",
      "                  Real          Imaginary           Modulus         Frequency\n",
      "-----------------------------------------------------------------------------\n",
      "AR.1            1.4794           +0.0000j            1.4794            0.0000\n",
      "MA.1            4.8333           +0.0000j            4.8333            0.0000\n",
      "-----------------------------------------------------------------------------\n",
      "                              ARMA Model Results                              \n",
      "==============================================================================\n",
      "Dep. Variable:              confirmed   No. Observations:                   59\n",
      "Model:                     ARMA(1, 0)   Log Likelihood                  28.726\n",
      "Method:                       css-mle   S.D. of innovations              0.148\n",
      "Date:                Mon, 30 Mar 2020   AIC                            -51.451\n",
      "Time:                        01:18:43   BIC                            -45.219\n",
      "Sample:                    01-24-2020   HQIC                           -49.018\n",
      "                         - 03-22-2020                                         \n",
      "===================================================================================\n",
      "                      coef    std err          z      P>|z|      [0.025      0.975]\n",
      "-----------------------------------------------------------------------------------\n",
      "const               0.1821      0.041      4.496      0.000       0.103       0.261\n",
      "ar.L1.confirmed     0.5309      0.112      4.741      0.000       0.311       0.750\n",
      "                                    Roots                                    \n",
      "=============================================================================\n",
      "                  Real          Imaginary           Modulus         Frequency\n",
      "-----------------------------------------------------------------------------\n",
      "AR.1            1.8837           +0.0000j            1.8837            0.0000\n",
      "-----------------------------------------------------------------------------\n"
     ]
    },
    {
     "data": {
      "image/png": "[encoded data removed]",
      "text/plain": [
       "<Figure size 864x432 with 3 Axes>"
      ]
     },
     "metadata": {
      "needs_background": "light"
     },
     "output_type": "display_data"
    }
   ],
   "source": [
    "model = ARIMA(df_log_minus_mean.dropna(), (0, 0, 1))\n",
    "res_001 = model.fit()\n",
    "print(res_001.summary())\n",
    "\n",
    "model = ARIMA(df_log_minus_mean.dropna(), (1, 0, 1))\n",
    "res_101 = model.fit()\n",
    "print(res_101.summary())\n",
    "\n",
    "model = ARIMA(df_log_minus_mean.dropna(), (1, 0, 0))\n",
    "res_100 = model.fit()\n",
    "print(res_100.summary())\n",
    "\n",
    "\n",
    "\n",
    "fig, ax = plt.subplots(1, 3, sharey=True, figsize=(12, 6))\n",
    "ax[0].plot(res_001.resid.values, alpha=0.7, label='variance={:.3f}'.format(np.std(res_001.resid.values)));\n",
    "ax[0].hlines(0, xmin=0, xmax=70, color='r');\n",
    "ax[0].set_title(\"ARIMA(0,0,1)\");\n",
    "ax[0].legend();\n",
    "ax[1].plot(res_101.resid.values, alpha=0.7, label='variance={:.3f}'.format(np.std(res_101.resid.values)));\n",
    "ax[1].hlines(0, xmin=0, xmax=70, color='r');\n",
    "ax[1].set_title(\"ARIMA(1,0,1)\");\n",
    "ax[1].legend();\n",
    "ax[2].plot(res_100.resid.values, alpha=0.7, label='variance={:.3f}'.format(np.std(res_100.resid.values)));\n",
    "ax[2].hlines(0, xmin=0, xmax=70, color='r');\n",
    "ax[2].set_title(\"ARIMA(1,0,0)\");\n",
    "ax[2].legend();"
   ]
  },
  {
   "cell_type": "code",
   "execution_count": 21,
   "metadata": {},
   "outputs": [
    {
     "name": "stdout",
     "output_type": "stream",
     "text": [
      "                             ARIMA Model Results                              \n",
      "==============================================================================\n",
      "Dep. Variable:            D.confirmed   No. Observations:                   58\n",
      "Model:                 ARIMA(0, 1, 1)   Log Likelihood                  26.051\n",
      "Method:                       css-mle   S.D. of innovations              0.154\n",
      "Date:                Mon, 30 Mar 2020   AIC                            -46.102\n",
      "Time:                        01:18:46   BIC                            -39.921\n",
      "Sample:                    01-25-2020   HQIC                           -43.694\n",
      "                         - 03-22-2020                                         \n",
      "=====================================================================================\n",
      "                        coef    std err          z      P>|z|      [0.025      0.975]\n",
      "-------------------------------------------------------------------------------------\n",
      "const                -0.0006      0.008     -0.075      0.940      -0.016       0.014\n",
      "ma.L1.D.confirmed    -0.6383      0.157     -4.054      0.000      -0.947      -0.330\n",
      "                                    Roots                                    \n",
      "=============================================================================\n",
      "                  Real          Imaginary           Modulus         Frequency\n",
      "-----------------------------------------------------------------------------\n",
      "MA.1            1.5668           +0.0000j            1.5668            0.0000\n",
      "-----------------------------------------------------------------------------\n",
      "                             ARIMA Model Results                              \n",
      "==============================================================================\n",
      "Dep. Variable:            D.confirmed   No. Observations:                   58\n",
      "Model:                 ARIMA(1, 1, 1)   Log Likelihood                  27.255\n",
      "Method:                       css-mle   S.D. of innovations              0.147\n",
      "Date:                Mon, 30 Mar 2020   AIC                            -46.511\n",
      "Time:                        01:18:46   BIC                            -38.269\n",
      "Sample:                    01-25-2020   HQIC                           -43.301\n",
      "                         - 03-22-2020                                         \n",
      "=====================================================================================\n",
      "                        coef    std err          z      P>|z|      [0.025      0.975]\n",
      "-------------------------------------------------------------------------------------\n",
      "const                 0.0029      0.002      1.374      0.175      -0.001       0.007\n",
      "ar.L1.D.confirmed     0.4929      0.125      3.932      0.000       0.247       0.739\n",
      "ma.L1.D.confirmed    -1.0000      0.153     -6.516      0.000      -1.301      -0.699\n",
      "                                    Roots                                    \n",
      "=============================================================================\n",
      "                  Real          Imaginary           Modulus         Frequency\n",
      "-----------------------------------------------------------------------------\n",
      "AR.1            2.0288           +0.0000j            2.0288            0.0000\n",
      "MA.1            1.0000           +0.0000j            1.0000            0.0000\n",
      "-----------------------------------------------------------------------------\n",
      "                             ARIMA Model Results                              \n",
      "==============================================================================\n",
      "Dep. Variable:            D.confirmed   No. Observations:                   58\n",
      "Model:                 ARIMA(1, 1, 0)   Log Likelihood                  22.941\n",
      "Method:                       css-mle   S.D. of innovations              0.163\n",
      "Date:                Mon, 30 Mar 2020   AIC                            -39.882\n",
      "Time:                        01:18:46   BIC                            -33.700\n",
      "Sample:                    01-25-2020   HQIC                           -37.474\n",
      "                         - 03-22-2020                                         \n",
      "=====================================================================================\n",
      "                        coef    std err          z      P>|z|      [0.025      0.975]\n",
      "-------------------------------------------------------------------------------------\n",
      "const                -0.0023      0.017     -0.137      0.892      -0.035       0.031\n",
      "ar.L1.D.confirmed    -0.2689      0.127     -2.113      0.039      -0.518      -0.019\n",
      "                                    Roots                                    \n",
      "=============================================================================\n",
      "                  Real          Imaginary           Modulus         Frequency\n",
      "-----------------------------------------------------------------------------\n",
      "AR.1           -3.7188           +0.0000j            3.7188            0.5000\n",
      "-----------------------------------------------------------------------------\n"
     ]
    },
    {
     "data": {
      "image/png": "[encoded data removed]",
      "text/plain": [
       "<Figure size 864x432 with 3 Axes>"
      ]
     },
     "metadata": {
      "needs_background": "light"
     },
     "output_type": "display_data"
    }
   ],
   "source": [
    "model = ARIMA(df_log_minus_mean.dropna(), (0, 1, 1))\n",
    "res_011 = model.fit()\n",
    "print(res_011.summary())\n",
    "\n",
    "model = ARIMA(df_log_minus_mean.dropna(), (1, 1, 1))\n",
    "res_111 = model.fit()\n",
    "print(res_111.summary())\n",
    "\n",
    "model = ARIMA(df_log_minus_mean.dropna(), (1, 1, 0))\n",
    "res_110 = model.fit()\n",
    "print(res_110.summary())\n",
    "\n",
    "\n",
    "\n",
    "fig, ax = plt.subplots(1, 3, sharey=True, figsize=(12, 6))\n",
    "ax[0].plot(res_011.resid.values, alpha=0.7, label='variance={:.3f}'.format(np.std(res_011.resid.values)));\n",
    "ax[0].hlines(0, xmin=0, xmax=70, color='r');\n",
    "ax[0].set_title(\"ARIMA(0,1,1)\");\n",
    "ax[0].legend();\n",
    "ax[1].plot(res_111.resid.values, alpha=0.7, label='variance={:.3f}'.format(np.std(res_111.resid.values)));\n",
    "ax[1].hlines(0, xmin=0, xmax=70, color='r');\n",
    "ax[1].set_title(\"ARIMA(1,1,1)\");\n",
    "ax[1].legend();\n",
    "ax[2].plot(res_110.resid.values, alpha=0.7, label='variance={:.3f}'.format(np.std(res_110.resid.values)));\n",
    "ax[2].hlines(0, xmin=0, xmax=70, color='r');\n",
    "ax[2].set_title(\"ARIMA(1,1,0)\");"
   ]
  },
  {
   "cell_type": "markdown",
   "metadata": {},
   "source": [
    "##### Last round of comparison"
   ]
  },
  {
   "cell_type": "code",
   "execution_count": 38,
   "metadata": {
    "scrolled": false
   },
   "outputs": [
    {
     "name": "stdout",
     "output_type": "stream",
     "text": [
      "ARIMA(1,1,1): AIC = -46.51095259980883\n",
      "ARIMA(1,0,1): AIC = -49.802168487064705\n",
      "ARIMA(1,0,0): AIC = -51.451117275762215\n"
     ]
    },
    {
     "data": {
      "image/png": "[encoded data removed]",
      "text/plain": [
       "<Figure size 864x432 with 3 Axes>"
      ]
     },
     "metadata": {
      "needs_background": "light"
     },
     "output_type": "display_data"
    }
   ],
   "source": [
    "model = ARIMA(df_log_minus_mean.dropna(), (1, 1, 1))\n",
    "res_111 = model.fit()\n",
    "# print(res_111.summary()[1])\n",
    "print('ARIMA(1,1,1): AIC = '+ str(res_111.aic))\n",
    "\n",
    "model = ARIMA(df_log_minus_mean.dropna(), (1, 0, 1))\n",
    "res_101 = model.fit()\n",
    "# print(res_101.summary())\n",
    "print('ARIMA(1,0,1): AIC = '+ str(res_101.aic))\n",
    "\n",
    "model = ARIMA(df_log_minus_mean.dropna(), (1, 0, 0))\n",
    "res_100 = model.fit()\n",
    "# print(res_100.summary())\n",
    "print('ARIMA(1,0,0): AIC = '+ str(res_100.aic))\n",
    "\n",
    "\n",
    "\n",
    "fig, ax = plt.subplots(1, 3, sharey=True, figsize=(12, 6))\n",
    "ax[0].plot(res_111.resid.values, alpha=0.7, label='variance={:.3f}'.format(np.std(res_111.resid.values)));\n",
    "ax[0].hlines(0, xmin=0, xmax=70, color='r');\n",
    "ax[0].set_title(\"ARIMA(1,1,1)\");\n",
    "ax[0].legend();\n",
    "ax[1].plot(res_101.resid.values, alpha=0.7, label='variance={:.3f}'.format(np.std(res_101.resid.values)));\n",
    "ax[1].hlines(0, xmin=0, xmax=70, color='r');\n",
    "ax[1].set_title(\"ARIMA(1,0,1)\");\n",
    "ax[1].legend();\n",
    "ax[2].plot(res_100.resid.values, alpha=0.7, label='variance={:.3f}'.format(np.std(res_100.resid.values)));\n",
    "ax[2].hlines(0, xmin=0, xmax=70, color='r');\n",
    "ax[2].set_title(\"ARIMA(1,0,0)\");\n",
    "ax[2].legend();"
   ]
  },
  {
   "cell_type": "markdown",
   "metadata": {},
   "source": [
    "##### The ARIMA(1,0,0) has the lowest AIC and second lowest variance.\n",
    "\n",
    "### Conclusion: choose ARIMA(1,0,0) on log_minus_mean as final model"
   ]
  },
  {
   "cell_type": "code",
   "execution_count": 39,
   "metadata": {},
   "outputs": [],
   "source": [
    "model = ARIMA(df_log_minus_mean.dropna(), order = (1,0,0))\n",
    "results_mean = model.fit(disp = -1)"
   ]
  },
  {
   "cell_type": "markdown",
   "metadata": {},
   "source": [
    "#### Plot Fitted Values"
   ]
  },
  {
   "cell_type": "code",
   "execution_count": 40,
   "metadata": {},
   "outputs": [
    {
     "name": "stdout",
     "output_type": "stream",
     "text": [
      "RMSE: 0.1495\n"
     ]
    },
    {
     "data": {
      "application/vnd.plotly.v1+json": {
       "config": {
        "linkText": "Export to plot.ly",
        "plotlyServerURL": "https://plot.ly",
        "showLink": false
       },
       "data": [
        {
         "mode": "lines",
         "name": "df_log_minus_mean",
         "type": "scatter",
         "uid": "47c4aa22-f435-4bfc-b709-f96b4178561d",
         "x": [
          "2020-01-24",
          "2020-01-25",
          "2020-01-26",
          "2020-01-27",
          "2020-01-28",
          "2020-01-29",
          "2020-01-30",
          "2020-01-31",
          "2020-02-01",
          "2020-02-02",
          "2020-02-03",
          "2020-02-04",
          "2020-02-05",
          "2020-02-06",
          "2020-02-07",
          "2020-02-08",
          "2020-02-09",
          "2020-02-10",
          "2020-02-11",
          "2020-02-12",
          "2020-02-13",
          "2020-02-14",
          "2020-02-15",
          "2020-02-16",
          "2020-02-17",
          "2020-02-18",
          "2020-02-19",
          "2020-02-20",
          "2020-02-21",
          "2020-02-22",
          "2020-02-23",
          "2020-02-24",
          "2020-02-25",
          "2020-02-26",
          "2020-02-27",
          "2020-02-28",
          "2020-02-29",
          "2020-03-01",
          "2020-03-02",
          "2020-03-03",
          "2020-03-04",
          "2020-03-05",
          "2020-03-06",
          "2020-03-07",
          "2020-03-08",
          "2020-03-09",
          "2020-03-10",
          "2020-03-11",
          "2020-03-12",
          "2020-03-13",
          "2020-03-14",
          "2020-03-15",
          "2020-03-16",
          "2020-03-17",
          "2020-03-18",
          "2020-03-19",
          "2020-03-20",
          "2020-03-21",
          "2020-03-22"
         ],
         "y": [
          0.4620981203732969,
          0.23104906018664845,
          0.6108604879161034,
          0.30543024395805185,
          0,
          0,
          0,
          0.22431482441414197,
          0.20117834062341955,
          0.04451046420817484,
          0.21230248741235735,
          0.10615124370617934,
          1.3322676295501878e-15,
          1.3322676295501878e-15,
          1.3322676295501878e-15,
          1.3322676295501878e-15,
          1.3322676295501878e-15,
          1.3322676295501878e-15,
          0.05800758465975431,
          0.029003792329878042,
          0.05336180511569255,
          0.02668090255784694,
          1.7763568394002505e-15,
          1.7763568394002505e-15,
          1.7763568394002505e-15,
          1.7763568394002505e-15,
          1.7763568394002505e-15,
          1.7763568394002505e-15,
          0.09540056242711703,
          0.04770028121355896,
          8.881784197001252e-16,
          0.815850287748078,
          0.40792514387403944,
          0.07415042340681754,
          0.04866970684465599,
          0.028398282021078636,
          0.09474261252789962,
          0.09809263967004611,
          0.2154540529869573,
          0.21744555901886287,
          0.21741350291822759,
          0.3283879255565987,
          0.25094844934542504,
          0.3482207733121614,
          0.3117179640462817,
          0.16331568060749202,
          0.3712065737189647,
          0.35890478085317756,
          0.2704898605352266,
          0.26715596293319077,
          0.2396383171845411,
          0.24096208898172033,
          0.2700993877641249,
          0.31122726132252154,
          0.23710704229062785,
          0.4399718143365501,
          0.41057307074282967,
          0.3036966827142997,
          0.27383236109372255
         ]
        },
        {
         "mode": "lines",
         "name": "MRIMA",
         "type": "scatter",
         "uid": "1c6bf5ea-fdfb-45e5-a32b-b9cfb802bae4",
         "x": [
          "2020-01-24",
          "2020-01-25",
          "2020-01-26",
          "2020-01-27",
          "2020-01-28",
          "2020-01-29",
          "2020-01-30",
          "2020-01-31",
          "2020-02-01",
          "2020-02-02",
          "2020-02-03",
          "2020-02-04",
          "2020-02-05",
          "2020-02-06",
          "2020-02-07",
          "2020-02-08",
          "2020-02-09",
          "2020-02-10",
          "2020-02-11",
          "2020-02-12",
          "2020-02-13",
          "2020-02-14",
          "2020-02-15",
          "2020-02-16",
          "2020-02-17",
          "2020-02-18",
          "2020-02-19",
          "2020-02-20",
          "2020-02-21",
          "2020-02-22",
          "2020-02-23",
          "2020-02-24",
          "2020-02-25",
          "2020-02-26",
          "2020-02-27",
          "2020-02-28",
          "2020-02-29",
          "2020-03-01",
          "2020-03-02",
          "2020-03-03",
          "2020-03-04",
          "2020-03-05",
          "2020-03-06",
          "2020-03-07",
          "2020-03-08",
          "2020-03-09",
          "2020-03-10",
          "2020-03-11",
          "2020-03-12",
          "2020-03-13",
          "2020-03-14",
          "2020-03-15",
          "2020-03-16",
          "2020-03-17",
          "2020-03-18",
          "2020-03-19",
          "2020-03-20",
          "2020-03-21",
          "2020-03-22"
         ],
         "y": [
          0.18210689593453422,
          0.3307494922545495,
          0.20808946156150088,
          0.4097249122542266,
          0.2475771715613395,
          0.08542943086845221,
          0.08542943086845223,
          0.08542943086845223,
          0.20451436990831437,
          0.19223160273494141,
          0.1090592820417316,
          0.19813722375526852,
          0.14178332731186072,
          0.08542943086845292,
          0.08542943086845292,
          0.08542943086845292,
          0.08542943086845292,
          0.08542943086845292,
          0.08542943086845292,
          0.11622467456711602,
          0.1008270527177846,
          0.11375830893460748,
          0.0995938699015302,
          0.08542943086845317,
          0.08542943086845317,
          0.08542943086845317,
          0.08542943086845317,
          0.08542943086845317,
          0.08542943086845317,
          0.1360759728019757,
          0.11075270183521418,
          0.08542943086845267,
          0.5185505232255059,
          0.3019899770469793,
          0.12479463410120001,
          0.11126735347486566,
          0.10050559755582768,
          0.13572667835010777,
          0.13750515099027466,
          0.199810336512357,
          0.20086759331661144,
          0.20085057527600722,
          0.2597650156808704,
          0.2186537100506168,
          0.27029393846663147,
          0.25091521560440344,
          0.17213095815355953,
          0.28249671038496416,
          0.2759658970188418,
          0.22902791410230267,
          0.2272580043616491,
          0.21264935254803374,
          0.21335212056250405,
          0.22882061872508086,
          0.2506547098438132,
          0.21130554160186882,
          0.3190030113322783,
          0.3033957165498207,
          0.24665685327398035
         ]
        }
       ],
       "layout": {
        "title": {
         "text": "ARIMA(1,0,0) Fitted Values _ USA<br>RMSE: 0.1495"
        },
        "xaxis": {
         "automargin": true,
         "tickangle": -45,
         "tickfont": {
          "size": 4
         },
         "title": {
          "font": {
           "color": "black"
          },
          "text": "Date"
         }
        }
       }
      },
      "text/html": [
       "<div>\n",
       "        \n",
       "        \n",
       "            <div id=\"d9b8d4f2-86d4-4f8d-a78d-cbdd6132002e\" class=\"plotly-graph-div\" style=\"height:525px; width:100%;\"></div>\n",
       "            <script type=\"text/javascript\">\n",
       "                require([\"plotly\"], function(Plotly) {\n",
       "                    window.PLOTLYENV=window.PLOTLYENV || {};\n",
       "                    window.PLOTLYENV.BASE_URL='https://plot.ly';\n",
       "                    \n",
       "                if (document.getElementById(\"d9b8d4f2-86d4-4f8d-a78d-cbdd6132002e\")) {\n",
       "                    Plotly.newPlot(\n",
       "                        'd9b8d4f2-86d4-4f8d-a78d-cbdd6132002e',\n",
       "                        [{\"mode\": \"lines\", \"name\": \"df_log_minus_mean\", \"type\": \"scatter\", \"uid\": \"47c4aa22-f435-4bfc-b709-f96b4178561d\", \"x\": [\"2020-01-24\", \"2020-01-25\", \"2020-01-26\", \"2020-01-27\", \"2020-01-28\", \"2020-01-29\", \"2020-01-30\", \"2020-01-31\", \"2020-02-01\", \"2020-02-02\", \"2020-02-03\", \"2020-02-04\", \"2020-02-05\", \"2020-02-06\", \"2020-02-07\", \"2020-02-08\", \"2020-02-09\", \"2020-02-10\", \"2020-02-11\", \"2020-02-12\", \"2020-02-13\", \"2020-02-14\", \"2020-02-15\", \"2020-02-16\", \"2020-02-17\", \"2020-02-18\", \"2020-02-19\", \"2020-02-20\", \"2020-02-21\", \"2020-02-22\", \"2020-02-23\", \"2020-02-24\", \"2020-02-25\", \"2020-02-26\", \"2020-02-27\", \"2020-02-28\", \"2020-02-29\", \"2020-03-01\", \"2020-03-02\", \"2020-03-03\", \"2020-03-04\", \"2020-03-05\", \"2020-03-06\", \"2020-03-07\", \"2020-03-08\", \"2020-03-09\", \"2020-03-10\", \"2020-03-11\", \"2020-03-12\", \"2020-03-13\", \"2020-03-14\", \"2020-03-15\", \"2020-03-16\", \"2020-03-17\", \"2020-03-18\", \"2020-03-19\", \"2020-03-20\", \"2020-03-21\", \"2020-03-22\"], \"y\": [0.4620981203732969, 0.23104906018664845, 0.6108604879161034, 0.30543024395805185, 0.0, 0.0, 0.0, 0.22431482441414197, 0.20117834062341955, 0.04451046420817484, 0.21230248741235735, 0.10615124370617934, 1.3322676295501878e-15, 1.3322676295501878e-15, 1.3322676295501878e-15, 1.3322676295501878e-15, 1.3322676295501878e-15, 1.3322676295501878e-15, 0.05800758465975431, 0.029003792329878042, 0.05336180511569255, 0.02668090255784694, 1.7763568394002505e-15, 1.7763568394002505e-15, 1.7763568394002505e-15, 1.7763568394002505e-15, 1.7763568394002505e-15, 1.7763568394002505e-15, 0.09540056242711703, 0.04770028121355896, 8.881784197001252e-16, 0.815850287748078, 0.40792514387403944, 0.07415042340681754, 0.04866970684465599, 0.028398282021078636, 0.09474261252789962, 0.09809263967004611, 0.2154540529869573, 0.21744555901886287, 0.21741350291822759, 0.3283879255565987, 0.25094844934542504, 0.3482207733121614, 0.3117179640462817, 0.16331568060749202, 0.3712065737189647, 0.35890478085317756, 0.2704898605352266, 0.26715596293319077, 0.2396383171845411, 0.24096208898172033, 0.2700993877641249, 0.31122726132252154, 0.23710704229062785, 0.4399718143365501, 0.41057307074282967, 0.3036966827142997, 0.27383236109372255]}, {\"mode\": \"lines\", \"name\": \"MRIMA\", \"type\": \"scatter\", \"uid\": \"1c6bf5ea-fdfb-45e5-a32b-b9cfb802bae4\", \"x\": [\"2020-01-24\", \"2020-01-25\", \"2020-01-26\", \"2020-01-27\", \"2020-01-28\", \"2020-01-29\", \"2020-01-30\", \"2020-01-31\", \"2020-02-01\", \"2020-02-02\", \"2020-02-03\", \"2020-02-04\", \"2020-02-05\", \"2020-02-06\", \"2020-02-07\", \"2020-02-08\", \"2020-02-09\", \"2020-02-10\", \"2020-02-11\", \"2020-02-12\", \"2020-02-13\", \"2020-02-14\", \"2020-02-15\", \"2020-02-16\", \"2020-02-17\", \"2020-02-18\", \"2020-02-19\", \"2020-02-20\", \"2020-02-21\", \"2020-02-22\", \"2020-02-23\", \"2020-02-24\", \"2020-02-25\", \"2020-02-26\", \"2020-02-27\", \"2020-02-28\", \"2020-02-29\", \"2020-03-01\", \"2020-03-02\", \"2020-03-03\", \"2020-03-04\", \"2020-03-05\", \"2020-03-06\", \"2020-03-07\", \"2020-03-08\", \"2020-03-09\", \"2020-03-10\", \"2020-03-11\", \"2020-03-12\", \"2020-03-13\", \"2020-03-14\", \"2020-03-15\", \"2020-03-16\", \"2020-03-17\", \"2020-03-18\", \"2020-03-19\", \"2020-03-20\", \"2020-03-21\", \"2020-03-22\"], \"y\": [0.18210689593453422, 0.3307494922545495, 0.20808946156150088, 0.4097249122542266, 0.2475771715613395, 0.08542943086845221, 0.08542943086845223, 0.08542943086845223, 0.20451436990831437, 0.19223160273494141, 0.1090592820417316, 0.19813722375526852, 0.14178332731186072, 0.08542943086845292, 0.08542943086845292, 0.08542943086845292, 0.08542943086845292, 0.08542943086845292, 0.08542943086845292, 0.11622467456711602, 0.1008270527177846, 0.11375830893460748, 0.0995938699015302, 0.08542943086845317, 0.08542943086845317, 0.08542943086845317, 0.08542943086845317, 0.08542943086845317, 0.08542943086845317, 0.1360759728019757, 0.11075270183521418, 0.08542943086845267, 0.5185505232255059, 0.3019899770469793, 0.12479463410120001, 0.11126735347486566, 0.10050559755582768, 0.13572667835010777, 0.13750515099027466, 0.199810336512357, 0.20086759331661144, 0.20085057527600722, 0.2597650156808704, 0.2186537100506168, 0.27029393846663147, 0.25091521560440344, 0.17213095815355953, 0.28249671038496416, 0.2759658970188418, 0.22902791410230267, 0.2272580043616491, 0.21264935254803374, 0.21335212056250405, 0.22882061872508086, 0.2506547098438132, 0.21130554160186882, 0.3190030113322783, 0.3033957165498207, 0.24665685327398035]}],\n",
       "                        {\"title\": {\"text\": \"ARIMA(1,0,0) Fitted Values _ USA<br>RMSE: 0.1495\"}, \"xaxis\": {\"automargin\": true, \"tickangle\": -45, \"tickfont\": {\"size\": 4}, \"title\": {\"font\": {\"color\": \"black\"}, \"text\": \"Date\"}}},\n",
       "                        {\"showLink\": false, \"linkText\": \"Export to plot.ly\", \"plotlyServerURL\": \"https://plot.ly\", \"responsive\": true}\n",
       "                    ).then(function(){\n",
       "                            \n",
       "var gd = document.getElementById('d9b8d4f2-86d4-4f8d-a78d-cbdd6132002e');\n",
       "var x = new MutationObserver(function (mutations, observer) {{\n",
       "        var display = window.getComputedStyle(gd).display;\n",
       "        if (!display || display === 'none') {{\n",
       "            console.log([gd, 'removed!']);\n",
       "            Plotly.purge(gd);\n",
       "            observer.disconnect();\n",
       "        }}\n",
       "}});\n",
       "\n",
       "// Listen for the removal of the full notebook cells\n",
       "var notebookContainer = gd.closest('#notebook-container');\n",
       "if (notebookContainer) {{\n",
       "    x.observe(notebookContainer, {childList: true});\n",
       "}}\n",
       "\n",
       "// Listen for the clearing of the current output cell\n",
       "var outputEl = gd.closest('.output');\n",
       "if (outputEl) {{\n",
       "    x.observe(outputEl, {childList: true});\n",
       "}}\n",
       "\n",
       "                        })\n",
       "                };\n",
       "                });\n",
       "            </script>\n",
       "        </div>"
      ]
     },
     "metadata": {},
     "output_type": "display_data"
    }
   ],
   "source": [
    "# have same index\n",
    "RMSE = np.sqrt(sum((df_log_minus_mean.ix[results_mean.fittedvalues.index,0]-results_mean.fittedvalues)**2)/results_mean.fittedvalues.size)\n",
    "print('RMSE: %.4f'% RMSE)\n",
    "\n",
    "# convert Series file to Data Frame\n",
    "a =results_mean.fittedvalues.to_frame()\n",
    "a.rename(columns={0:'confirmed'}, inplace=True)\n",
    "\n",
    "trace1 = go.Scatter(y = a['confirmed'],x = a.index,mode = 'lines',name = 'MRIMA')\n",
    "trace0 = go.Scatter(y = df_log_minus_mean['confirmed'],x = df_log_minus_mean.index,mode = 'lines',name = 'df_log_minus_mean')\n",
    "data = [trace0, trace1]\n",
    "layout = dict(\n",
    "    title = 'ARIMA(1,0,0) Fitted Values _ USA' +'<br>'+'RMSE: %.4f'% RMSE, \n",
    "    xaxis=dict(\n",
    "        title= dict(text = 'Date',font = dict(color = 'black')),\n",
    "        tickangle = -45,\n",
    "        tickfont=dict(size = 4),\n",
    "        automargin=True)\n",
    ")\n",
    "fig = go.Figure(data, layout)\n",
    "off.iplot(fig)\n",
    "fig.write_html('Plots/ARIMA_fittedValues.html')    # save as html file\n",
    "fig.write_image('Plots/ARIMA_fittedValues.pdf')    # save as image file"
   ]
  },
  {
   "cell_type": "code",
   "execution_count": 24,
   "metadata": {
    "collapsed": true
   },
   "outputs": [
    {
     "name": "stdout",
     "output_type": "stream",
     "text": [
      "RMSE: 0.2633\n"
     ]
    },
    {
     "data": {
      "application/vnd.plotly.v1+json": {
       "config": {
        "linkText": "Export to plot.ly",
        "plotlyServerURL": "https://plot.ly",
        "showLink": false
       },
       "data": [
        {
         "mode": "lines",
         "name": "df_log_minus_mean",
         "type": "scatter",
         "uid": "d876de96-b37c-41c6-b8bb-0fffd9be6cfc",
         "x": [
          "2020-01-24",
          "2020-01-25",
          "2020-01-26",
          "2020-01-27",
          "2020-01-28",
          "2020-01-29",
          "2020-01-30",
          "2020-01-31",
          "2020-02-01",
          "2020-02-02",
          "2020-02-03",
          "2020-02-04",
          "2020-02-05",
          "2020-02-06",
          "2020-02-07",
          "2020-02-08",
          "2020-02-09",
          "2020-02-10",
          "2020-02-11",
          "2020-02-12",
          "2020-02-13",
          "2020-02-14",
          "2020-02-15",
          "2020-02-16",
          "2020-02-17",
          "2020-02-18",
          "2020-02-19",
          "2020-02-20",
          "2020-02-21",
          "2020-02-22",
          "2020-02-23",
          "2020-02-24",
          "2020-02-25",
          "2020-02-26",
          "2020-02-27",
          "2020-02-28",
          "2020-02-29",
          "2020-03-01",
          "2020-03-02",
          "2020-03-03",
          "2020-03-04",
          "2020-03-05",
          "2020-03-06",
          "2020-03-07",
          "2020-03-08",
          "2020-03-09",
          "2020-03-10",
          "2020-03-11",
          "2020-03-12",
          "2020-03-13",
          "2020-03-14",
          "2020-03-15",
          "2020-03-16",
          "2020-03-17",
          "2020-03-18",
          "2020-03-19",
          "2020-03-20",
          "2020-03-21",
          "2020-03-22"
         ],
         "y": [
          0.4620981203732969,
          0.23104906018664845,
          0.6108604879161034,
          0.30543024395805185,
          0,
          0,
          0,
          0.22431482441414197,
          0.20117834062341955,
          0.04451046420817484,
          0.21230248741235735,
          0.10615124370617934,
          1.3322676295501878e-15,
          1.3322676295501878e-15,
          1.3322676295501878e-15,
          1.3322676295501878e-15,
          1.3322676295501878e-15,
          1.3322676295501878e-15,
          0.05800758465975431,
          0.029003792329878042,
          0.05336180511569255,
          0.02668090255784694,
          1.7763568394002505e-15,
          1.7763568394002505e-15,
          1.7763568394002505e-15,
          1.7763568394002505e-15,
          1.7763568394002505e-15,
          1.7763568394002505e-15,
          0.09540056242711703,
          0.04770028121355896,
          8.881784197001252e-16,
          0.815850287748078,
          0.40792514387403944,
          0.07415042340681754,
          0.04866970684465599,
          0.028398282021078636,
          0.09474261252789962,
          0.09809263967004611,
          0.2154540529869573,
          0.21744555901886287,
          0.21741350291822759,
          0.3283879255565987,
          0.25094844934542504,
          0.3482207733121614,
          0.3117179640462817,
          0.16331568060749202,
          0.3712065737189647,
          0.35890478085317756,
          0.2704898605352266,
          0.26715596293319077,
          0.2396383171845411,
          0.24096208898172033,
          0.2700993877641249,
          0.31122726132252154,
          0.23710704229062785,
          0.4399718143365501,
          0.41057307074282967,
          0.3036966827142997,
          0.27383236109372255
         ]
        },
        {
         "mode": "lines",
         "name": "MRIMA",
         "type": "scatter",
         "uid": "ea699ea8-053f-4c2c-8daa-88acf2430e44",
         "x": [
          "2020-01-25",
          "2020-01-26",
          "2020-01-27",
          "2020-01-28",
          "2020-01-29",
          "2020-01-30",
          "2020-01-31",
          "2020-02-01",
          "2020-02-02",
          "2020-02-03",
          "2020-02-04",
          "2020-02-05",
          "2020-02-06",
          "2020-02-07",
          "2020-02-08",
          "2020-02-09",
          "2020-02-10",
          "2020-02-11",
          "2020-02-12",
          "2020-02-13",
          "2020-02-14",
          "2020-02-15",
          "2020-02-16",
          "2020-02-17",
          "2020-02-18",
          "2020-02-19",
          "2020-02-20",
          "2020-02-21",
          "2020-02-22",
          "2020-02-23",
          "2020-02-24",
          "2020-02-25",
          "2020-02-26",
          "2020-02-27",
          "2020-02-28",
          "2020-02-29",
          "2020-03-01",
          "2020-03-02",
          "2020-03-03",
          "2020-03-04",
          "2020-03-05",
          "2020-03-06",
          "2020-03-07",
          "2020-03-08",
          "2020-03-09",
          "2020-03-10",
          "2020-03-11",
          "2020-03-12",
          "2020-03-13",
          "2020-03-14",
          "2020-03-15",
          "2020-03-16",
          "2020-03-17",
          "2020-03-18",
          "2020-03-19",
          "2020-03-20",
          "2020-03-21",
          "2020-03-22"
         ],
         "y": [
          0.0029363113969524957,
          0.06226315441041791,
          -0.06462078708602584,
          0.05123850684518083,
          0.15624724745842955,
          0.13806767385422014,
          0.12411977795693077,
          0.02193493864841911,
          0.03103805375770438,
          0.09625764242543167,
          0.018185968194936647,
          0.06458723568682734,
          0.10848018138095025,
          0.10316535863175036,
          0.0985657531656473,
          0.09456179012535657,
          0.09105914271632068,
          0.0879824024693778,
          0.058624641010809525,
          0.07082815283994312,
          0.05793986339350858,
          0.06942460438042104,
          0.08059060624748701,
          0.07897327739738688,
          0.07753126240572134,
          0.07624574000569749,
          0.07510048998959853,
          0.07408145888828002,
          0.027881911595546066,
          0.05119357987755607,
          0.0738694546541323,
          -0.31649922932403196,
          -0.11076825971398518,
          0.05377320460860957,
          0.06603819911981795,
          0.07553215509327808,
          0.04314210481228517,
          0.04193611359133921,
          -0.014246553542944799,
          -0.013380307335984684,
          -0.011564222720541209,
          -0.06356169439155994,
          -0.023112013515800958,
          -0.06832944580849032,
          -0.047651947395655925,
          0.02699024589566934,
          -0.07324588965920231,
          -0.06429841776837197,
          -0.018447716045562605,
          -0.014977137319998772,
          0.00022916222102137935,
          0.0010671706017312682,
          -0.011708430872625068,
          -0.030130873946785687,
          0.008171893410091419,
          -0.08985155852209692,
          -0.07242889568649968,
          -0.01731767585334589
         ]
        }
       ],
       "layout": {
        "title": {
         "text": "MRIMA Fitted Values _ USA<br>RMSE: 0.2633"
        },
        "xaxis": {
         "automargin": true,
         "tickangle": -45,
         "tickfont": {
          "size": 4
         },
         "title": {
          "font": {
           "color": "black"
          },
          "text": "Date"
         }
        }
       }
      },
      "text/html": [
       "<div>\n",
       "        \n",
       "        \n",
       "            <div id=\"6ac2e871-3c77-46c3-8b83-2b48e0e90953\" class=\"plotly-graph-div\" style=\"height:525px; width:100%;\"></div>\n",
       "            <script type=\"text/javascript\">\n",
       "                require([\"plotly\"], function(Plotly) {\n",
       "                    window.PLOTLYENV=window.PLOTLYENV || {};\n",
       "                    window.PLOTLYENV.BASE_URL='https://plot.ly';\n",
       "                    \n",
       "                if (document.getElementById(\"6ac2e871-3c77-46c3-8b83-2b48e0e90953\")) {\n",
       "                    Plotly.newPlot(\n",
       "                        '6ac2e871-3c77-46c3-8b83-2b48e0e90953',\n",
       "                        [{\"mode\": \"lines\", \"name\": \"df_log_minus_mean\", \"type\": \"scatter\", \"uid\": \"d876de96-b37c-41c6-b8bb-0fffd9be6cfc\", \"x\": [\"2020-01-24\", \"2020-01-25\", \"2020-01-26\", \"2020-01-27\", \"2020-01-28\", \"2020-01-29\", \"2020-01-30\", \"2020-01-31\", \"2020-02-01\", \"2020-02-02\", \"2020-02-03\", \"2020-02-04\", \"2020-02-05\", \"2020-02-06\", \"2020-02-07\", \"2020-02-08\", \"2020-02-09\", \"2020-02-10\", \"2020-02-11\", \"2020-02-12\", \"2020-02-13\", \"2020-02-14\", \"2020-02-15\", \"2020-02-16\", \"2020-02-17\", \"2020-02-18\", \"2020-02-19\", \"2020-02-20\", \"2020-02-21\", \"2020-02-22\", \"2020-02-23\", \"2020-02-24\", \"2020-02-25\", \"2020-02-26\", \"2020-02-27\", \"2020-02-28\", \"2020-02-29\", \"2020-03-01\", \"2020-03-02\", \"2020-03-03\", \"2020-03-04\", \"2020-03-05\", \"2020-03-06\", \"2020-03-07\", \"2020-03-08\", \"2020-03-09\", \"2020-03-10\", \"2020-03-11\", \"2020-03-12\", \"2020-03-13\", \"2020-03-14\", \"2020-03-15\", \"2020-03-16\", \"2020-03-17\", \"2020-03-18\", \"2020-03-19\", \"2020-03-20\", \"2020-03-21\", \"2020-03-22\"], \"y\": [0.4620981203732969, 0.23104906018664845, 0.6108604879161034, 0.30543024395805185, 0.0, 0.0, 0.0, 0.22431482441414197, 0.20117834062341955, 0.04451046420817484, 0.21230248741235735, 0.10615124370617934, 1.3322676295501878e-15, 1.3322676295501878e-15, 1.3322676295501878e-15, 1.3322676295501878e-15, 1.3322676295501878e-15, 1.3322676295501878e-15, 0.05800758465975431, 0.029003792329878042, 0.05336180511569255, 0.02668090255784694, 1.7763568394002505e-15, 1.7763568394002505e-15, 1.7763568394002505e-15, 1.7763568394002505e-15, 1.7763568394002505e-15, 1.7763568394002505e-15, 0.09540056242711703, 0.04770028121355896, 8.881784197001252e-16, 0.815850287748078, 0.40792514387403944, 0.07415042340681754, 0.04866970684465599, 0.028398282021078636, 0.09474261252789962, 0.09809263967004611, 0.2154540529869573, 0.21744555901886287, 0.21741350291822759, 0.3283879255565987, 0.25094844934542504, 0.3482207733121614, 0.3117179640462817, 0.16331568060749202, 0.3712065737189647, 0.35890478085317756, 0.2704898605352266, 0.26715596293319077, 0.2396383171845411, 0.24096208898172033, 0.2700993877641249, 0.31122726132252154, 0.23710704229062785, 0.4399718143365501, 0.41057307074282967, 0.3036966827142997, 0.27383236109372255]}, {\"mode\": \"lines\", \"name\": \"MRIMA\", \"type\": \"scatter\", \"uid\": \"ea699ea8-053f-4c2c-8daa-88acf2430e44\", \"x\": [\"2020-01-25\", \"2020-01-26\", \"2020-01-27\", \"2020-01-28\", \"2020-01-29\", \"2020-01-30\", \"2020-01-31\", \"2020-02-01\", \"2020-02-02\", \"2020-02-03\", \"2020-02-04\", \"2020-02-05\", \"2020-02-06\", \"2020-02-07\", \"2020-02-08\", \"2020-02-09\", \"2020-02-10\", \"2020-02-11\", \"2020-02-12\", \"2020-02-13\", \"2020-02-14\", \"2020-02-15\", \"2020-02-16\", \"2020-02-17\", \"2020-02-18\", \"2020-02-19\", \"2020-02-20\", \"2020-02-21\", \"2020-02-22\", \"2020-02-23\", \"2020-02-24\", \"2020-02-25\", \"2020-02-26\", \"2020-02-27\", \"2020-02-28\", \"2020-02-29\", \"2020-03-01\", \"2020-03-02\", \"2020-03-03\", \"2020-03-04\", \"2020-03-05\", \"2020-03-06\", \"2020-03-07\", \"2020-03-08\", \"2020-03-09\", \"2020-03-10\", \"2020-03-11\", \"2020-03-12\", \"2020-03-13\", \"2020-03-14\", \"2020-03-15\", \"2020-03-16\", \"2020-03-17\", \"2020-03-18\", \"2020-03-19\", \"2020-03-20\", \"2020-03-21\", \"2020-03-22\"], \"y\": [0.0029363113969524957, 0.06226315441041791, -0.06462078708602584, 0.05123850684518083, 0.15624724745842955, 0.13806767385422014, 0.12411977795693077, 0.02193493864841911, 0.03103805375770438, 0.09625764242543167, 0.018185968194936647, 0.06458723568682734, 0.10848018138095025, 0.10316535863175036, 0.0985657531656473, 0.09456179012535657, 0.09105914271632068, 0.0879824024693778, 0.058624641010809525, 0.07082815283994312, 0.05793986339350858, 0.06942460438042104, 0.08059060624748701, 0.07897327739738688, 0.07753126240572134, 0.07624574000569749, 0.07510048998959853, 0.07408145888828002, 0.027881911595546066, 0.05119357987755607, 0.0738694546541323, -0.31649922932403196, -0.11076825971398518, 0.05377320460860957, 0.06603819911981795, 0.07553215509327808, 0.04314210481228517, 0.04193611359133921, -0.014246553542944799, -0.013380307335984684, -0.011564222720541209, -0.06356169439155994, -0.023112013515800958, -0.06832944580849032, -0.047651947395655925, 0.02699024589566934, -0.07324588965920231, -0.06429841776837197, -0.018447716045562605, -0.014977137319998772, 0.00022916222102137935, 0.0010671706017312682, -0.011708430872625068, -0.030130873946785687, 0.008171893410091419, -0.08985155852209692, -0.07242889568649968, -0.01731767585334589]}],\n",
       "                        {\"title\": {\"text\": \"MRIMA Fitted Values _ USA<br>RMSE: 0.2633\"}, \"xaxis\": {\"automargin\": true, \"tickangle\": -45, \"tickfont\": {\"size\": 4}, \"title\": {\"font\": {\"color\": \"black\"}, \"text\": \"Date\"}}},\n",
       "                        {\"showLink\": false, \"linkText\": \"Export to plot.ly\", \"plotlyServerURL\": \"https://plot.ly\", \"responsive\": true}\n",
       "                    ).then(function(){\n",
       "                            \n",
       "var gd = document.getElementById('6ac2e871-3c77-46c3-8b83-2b48e0e90953');\n",
       "var x = new MutationObserver(function (mutations, observer) {{\n",
       "        var display = window.getComputedStyle(gd).display;\n",
       "        if (!display || display === 'none') {{\n",
       "            console.log([gd, 'removed!']);\n",
       "            Plotly.purge(gd);\n",
       "            observer.disconnect();\n",
       "        }}\n",
       "}});\n",
       "\n",
       "// Listen for the removal of the full notebook cells\n",
       "var notebookContainer = gd.closest('#notebook-container');\n",
       "if (notebookContainer) {{\n",
       "    x.observe(notebookContainer, {childList: true});\n",
       "}}\n",
       "\n",
       "// Listen for the clearing of the current output cell\n",
       "var outputEl = gd.closest('.output');\n",
       "if (outputEl) {{\n",
       "    x.observe(outputEl, {childList: true});\n",
       "}}\n",
       "\n",
       "                        })\n",
       "                };\n",
       "                });\n",
       "            </script>\n",
       "        </div>"
      ]
     },
     "metadata": {},
     "output_type": "display_data"
    }
   ],
   "source": [
    "# model = ARIMA(df_log_minus_mean.dropna(), order = (1,1,1))\n",
    "# results_mean = model.fit(disp = -1)\n",
    "# RMSE = np.sqrt(sum((df_log_minus_mean.ix[results_mean.fittedvalues.index,0]-results_mean.fittedvalues)**2)/results_mean.fittedvalues.size)\n",
    "# print('RMSE: %.4f'% RMSE)\n",
    "\n",
    "# # convert Series file to Data Frame\n",
    "# a =results_mean.fittedvalues.to_frame()\n",
    "# a.rename(columns={0:'confirmed'}, inplace=True)\n",
    "\n",
    "# trace1 = go.Scatter(y = a['confirmed'],x = a.index,mode = 'lines',name = 'MRIMA')\n",
    "# trace0 = go.Scatter(y = df_log_minus_mean['confirmed'],x = df_log_minus_mean.index,mode = 'lines',name = 'df_log_minus_mean')\n",
    "# data = [trace0, trace1]\n",
    "# layout = dict(\n",
    "#     title = 'ARIMA(1,1,1) Fitted Values _ USA' +'<br>'+'RMSE: %.4f'% RMSE, \n",
    "#     xaxis=dict(\n",
    "#         title= dict(text = 'Date',font = dict(color = 'black')),\n",
    "#         tickangle = -45,\n",
    "#         tickfont=dict(size = 4),\n",
    "#         automargin=True)\n",
    "# )\n",
    "# fig = go.Figure(data, layout)\n",
    "# off.iplot(fig)"
   ]
  },
  {
   "cell_type": "markdown",
   "metadata": {},
   "source": [
    "### Compare model with original time series"
   ]
  },
  {
   "cell_type": "code",
   "execution_count": 41,
   "metadata": {},
   "outputs": [
    {
     "name": "stdout",
     "output_type": "stream",
     "text": [
      "RMSE: 1049.0673\n"
     ]
    },
    {
     "data": {
      "application/vnd.plotly.v1+json": {
       "config": {
        "linkText": "Export to plot.ly",
        "plotlyServerURL": "https://plot.ly",
        "showLink": false
       },
       "data": [
        {
         "mode": "lines+markers",
         "name": "Confirmed Cases",
         "type": "scatter",
         "uid": "e066e857-6d05-4578-9849-9708d3226703",
         "x": [
          "2020-01-22",
          "2020-01-23",
          "2020-01-24",
          "2020-01-25",
          "2020-01-26",
          "2020-01-27",
          "2020-01-28",
          "2020-01-29",
          "2020-01-30",
          "2020-01-31",
          "2020-02-01",
          "2020-02-02",
          "2020-02-03",
          "2020-02-04",
          "2020-02-05",
          "2020-02-06",
          "2020-02-07",
          "2020-02-08",
          "2020-02-09",
          "2020-02-10",
          "2020-02-11",
          "2020-02-12",
          "2020-02-13",
          "2020-02-14",
          "2020-02-15",
          "2020-02-16",
          "2020-02-17",
          "2020-02-18",
          "2020-02-19",
          "2020-02-20",
          "2020-02-21",
          "2020-02-22",
          "2020-02-23",
          "2020-02-24",
          "2020-02-25",
          "2020-02-26",
          "2020-02-27",
          "2020-02-28",
          "2020-02-29",
          "2020-03-01",
          "2020-03-02",
          "2020-03-03",
          "2020-03-04",
          "2020-03-05",
          "2020-03-06",
          "2020-03-07",
          "2020-03-08",
          "2020-03-09",
          "2020-03-10",
          "2020-03-11",
          "2020-03-12",
          "2020-03-13",
          "2020-03-14",
          "2020-03-15",
          "2020-03-16",
          "2020-03-17",
          "2020-03-18",
          "2020-03-19",
          "2020-03-20",
          "2020-03-21",
          "2020-03-22"
         ],
         "y": [
          1,
          1,
          2,
          2,
          5,
          5,
          5,
          5,
          5,
          7,
          8,
          8,
          11,
          11,
          11,
          11,
          11,
          11,
          11,
          11,
          12,
          12,
          13,
          13,
          13,
          13,
          13,
          13,
          13,
          13,
          15,
          15,
          15,
          51,
          51,
          57,
          58,
          60,
          68,
          74,
          98,
          118,
          149,
          217,
          262,
          402,
          518,
          583,
          959,
          1281,
          1663,
          2179,
          2727,
          3499,
          4632,
          6421,
          7783,
          13677,
          19100,
          25489,
          33272
         ]
        },
        {
         "mode": "lines+markers",
         "name": "Predicted Cases",
         "type": "scatter",
         "uid": "722a0dbc-9aa6-48de-a9b3-a675e9bb9ea2",
         "x": [
          "2020-01-24",
          "2020-01-25",
          "2020-01-26",
          "2020-01-27",
          "2020-01-28",
          "2020-01-29",
          "2020-01-30",
          "2020-01-31",
          "2020-02-01",
          "2020-02-02",
          "2020-02-03",
          "2020-02-04",
          "2020-02-05",
          "2020-02-06",
          "2020-02-07",
          "2020-02-08",
          "2020-02-09",
          "2020-02-10",
          "2020-02-11",
          "2020-02-12",
          "2020-02-13",
          "2020-02-14",
          "2020-02-15",
          "2020-02-16",
          "2020-02-17",
          "2020-02-18",
          "2020-02-19",
          "2020-02-20",
          "2020-02-21",
          "2020-02-22",
          "2020-02-23",
          "2020-02-24",
          "2020-02-25",
          "2020-02-26",
          "2020-02-27",
          "2020-02-28",
          "2020-02-29",
          "2020-03-01",
          "2020-03-02",
          "2020-03-03",
          "2020-03-04",
          "2020-03-05",
          "2020-03-06",
          "2020-03-07",
          "2020-03-08",
          "2020-03-09",
          "2020-03-10",
          "2020-03-11",
          "2020-03-12",
          "2020-03-13",
          "2020-03-14",
          "2020-03-15",
          "2020-03-16",
          "2020-03-17",
          "2020-03-18",
          "2020-03-19",
          "2020-03-20",
          "2020-03-21",
          "2020-03-22"
         ],
         "y": [
          1.199742434614288,
          1.6700547130361443,
          2.0563773150541658,
          3.097733645442141,
          3.9679434331647094,
          4.321823261258076,
          4.707263754174607,
          5.12707964020624,
          6.290563139768673,
          7.623855392868284,
          8.502340519739976,
          10.365455642189119,
          11.944393820318778,
          13.00965094986477,
          14.169912712472861,
          15.433652067443598,
          16.810097632375395,
          18.309301076319958,
          19.942210523375802,
          22.400052255687314,
          24.77636920846778,
          27.761457930058445,
          30.668697936752807,
          33.40387643324905,
          36.38299099195191,
          39.6277969763673,
          43.161989995477754,
          47.01137894394501,
          51.20407447485053,
          58.66803801004534,
          65.53915715004956,
          71.38424694437299,
          119.8963641072663,
          162.16554792911677,
          183.71990609849678,
          205.3425790762214,
          227.05341527367787,
          260.05989704306063,
          298.394706546402,
          364.39099937396855,
          445.45447740919656,
          544.5423046370211,
          706.0673640920498,
          878.6304246974869,
          1151.3129871286665,
          1479.6687344402435,
          1757.599913362906,
          2331.346279746596,
          3072.254940233154,
          3862.983121111846,
          4848.637407955687,
          5997.52612204521,
          7423.860402568112,
          9332.65752172433,
          11991.2176619518,
          14812.628025718548,
          20378.553998227653,
          27601.739326859053,
          35323.04709475536
         ]
        }
       ],
       "layout": {
        "title": {
         "text": "Comparison Between Confirmed and Predicted Cases of USA<br>RMSE: 1049.0673"
        },
        "xaxis": {
         "automargin": true,
         "tickangle": -45,
         "tickfont": {
          "size": 4
         },
         "title": {
          "font": {
           "color": "black"
          },
          "text": "Date"
         }
        }
       }
      },
      "text/html": [
       "<div>\n",
       "        \n",
       "        \n",
       "            <div id=\"fe0faa5e-2eeb-4bb6-8e73-fd96652ef84c\" class=\"plotly-graph-div\" style=\"height:525px; width:100%;\"></div>\n",
       "            <script type=\"text/javascript\">\n",
       "                require([\"plotly\"], function(Plotly) {\n",
       "                    window.PLOTLYENV=window.PLOTLYENV || {};\n",
       "                    window.PLOTLYENV.BASE_URL='https://plot.ly';\n",
       "                    \n",
       "                if (document.getElementById(\"fe0faa5e-2eeb-4bb6-8e73-fd96652ef84c\")) {\n",
       "                    Plotly.newPlot(\n",
       "                        'fe0faa5e-2eeb-4bb6-8e73-fd96652ef84c',\n",
       "                        [{\"mode\": \"lines+markers\", \"name\": \"Confirmed Cases\", \"type\": \"scatter\", \"uid\": \"e066e857-6d05-4578-9849-9708d3226703\", \"x\": [\"2020-01-22\", \"2020-01-23\", \"2020-01-24\", \"2020-01-25\", \"2020-01-26\", \"2020-01-27\", \"2020-01-28\", \"2020-01-29\", \"2020-01-30\", \"2020-01-31\", \"2020-02-01\", \"2020-02-02\", \"2020-02-03\", \"2020-02-04\", \"2020-02-05\", \"2020-02-06\", \"2020-02-07\", \"2020-02-08\", \"2020-02-09\", \"2020-02-10\", \"2020-02-11\", \"2020-02-12\", \"2020-02-13\", \"2020-02-14\", \"2020-02-15\", \"2020-02-16\", \"2020-02-17\", \"2020-02-18\", \"2020-02-19\", \"2020-02-20\", \"2020-02-21\", \"2020-02-22\", \"2020-02-23\", \"2020-02-24\", \"2020-02-25\", \"2020-02-26\", \"2020-02-27\", \"2020-02-28\", \"2020-02-29\", \"2020-03-01\", \"2020-03-02\", \"2020-03-03\", \"2020-03-04\", \"2020-03-05\", \"2020-03-06\", \"2020-03-07\", \"2020-03-08\", \"2020-03-09\", \"2020-03-10\", \"2020-03-11\", \"2020-03-12\", \"2020-03-13\", \"2020-03-14\", \"2020-03-15\", \"2020-03-16\", \"2020-03-17\", \"2020-03-18\", \"2020-03-19\", \"2020-03-20\", \"2020-03-21\", \"2020-03-22\"], \"y\": [1, 1, 2, 2, 5, 5, 5, 5, 5, 7, 8, 8, 11, 11, 11, 11, 11, 11, 11, 11, 12, 12, 13, 13, 13, 13, 13, 13, 13, 13, 15, 15, 15, 51, 51, 57, 58, 60, 68, 74, 98, 118, 149, 217, 262, 402, 518, 583, 959, 1281, 1663, 2179, 2727, 3499, 4632, 6421, 7783, 13677, 19100, 25489, 33272]}, {\"mode\": \"lines+markers\", \"name\": \"Predicted Cases\", \"type\": \"scatter\", \"uid\": \"722a0dbc-9aa6-48de-a9b3-a675e9bb9ea2\", \"x\": [\"2020-01-24\", \"2020-01-25\", \"2020-01-26\", \"2020-01-27\", \"2020-01-28\", \"2020-01-29\", \"2020-01-30\", \"2020-01-31\", \"2020-02-01\", \"2020-02-02\", \"2020-02-03\", \"2020-02-04\", \"2020-02-05\", \"2020-02-06\", \"2020-02-07\", \"2020-02-08\", \"2020-02-09\", \"2020-02-10\", \"2020-02-11\", \"2020-02-12\", \"2020-02-13\", \"2020-02-14\", \"2020-02-15\", \"2020-02-16\", \"2020-02-17\", \"2020-02-18\", \"2020-02-19\", \"2020-02-20\", \"2020-02-21\", \"2020-02-22\", \"2020-02-23\", \"2020-02-24\", \"2020-02-25\", \"2020-02-26\", \"2020-02-27\", \"2020-02-28\", \"2020-02-29\", \"2020-03-01\", \"2020-03-02\", \"2020-03-03\", \"2020-03-04\", \"2020-03-05\", \"2020-03-06\", \"2020-03-07\", \"2020-03-08\", \"2020-03-09\", \"2020-03-10\", \"2020-03-11\", \"2020-03-12\", \"2020-03-13\", \"2020-03-14\", \"2020-03-15\", \"2020-03-16\", \"2020-03-17\", \"2020-03-18\", \"2020-03-19\", \"2020-03-20\", \"2020-03-21\", \"2020-03-22\"], \"y\": [1.199742434614288, 1.6700547130361443, 2.0563773150541658, 3.097733645442141, 3.9679434331647094, 4.321823261258076, 4.707263754174607, 5.12707964020624, 6.290563139768673, 7.623855392868284, 8.502340519739976, 10.365455642189119, 11.944393820318778, 13.00965094986477, 14.169912712472861, 15.433652067443598, 16.810097632375395, 18.309301076319958, 19.942210523375802, 22.400052255687314, 24.77636920846778, 27.761457930058445, 30.668697936752807, 33.40387643324905, 36.38299099195191, 39.6277969763673, 43.161989995477754, 47.01137894394501, 51.20407447485053, 58.66803801004534, 65.53915715004956, 71.38424694437299, 119.8963641072663, 162.16554792911677, 183.71990609849678, 205.3425790762214, 227.05341527367787, 260.05989704306063, 298.394706546402, 364.39099937396855, 445.45447740919656, 544.5423046370211, 706.0673640920498, 878.6304246974869, 1151.3129871286665, 1479.6687344402435, 1757.599913362906, 2331.346279746596, 3072.254940233154, 3862.983121111846, 4848.637407955687, 5997.52612204521, 7423.860402568112, 9332.65752172433, 11991.2176619518, 14812.628025718548, 20378.553998227653, 27601.739326859053, 35323.04709475536]}],\n",
       "                        {\"title\": {\"text\": \"Comparison Between Confirmed and Predicted Cases of USA<br>RMSE: 1049.0673\"}, \"xaxis\": {\"automargin\": true, \"tickangle\": -45, \"tickfont\": {\"size\": 4}, \"title\": {\"font\": {\"color\": \"black\"}, \"text\": \"Date\"}}},\n",
       "                        {\"showLink\": false, \"linkText\": \"Export to plot.ly\", \"plotlyServerURL\": \"https://plot.ly\", \"responsive\": true}\n",
       "                    ).then(function(){\n",
       "                            \n",
       "var gd = document.getElementById('fe0faa5e-2eeb-4bb6-8e73-fd96652ef84c');\n",
       "var x = new MutationObserver(function (mutations, observer) {{\n",
       "        var display = window.getComputedStyle(gd).display;\n",
       "        if (!display || display === 'none') {{\n",
       "            console.log([gd, 'removed!']);\n",
       "            Plotly.purge(gd);\n",
       "            observer.disconnect();\n",
       "        }}\n",
       "}});\n",
       "\n",
       "// Listen for the removal of the full notebook cells\n",
       "var notebookContainer = gd.closest('#notebook-container');\n",
       "if (notebookContainer) {{\n",
       "    x.observe(notebookContainer, {childList: true});\n",
       "}}\n",
       "\n",
       "// Listen for the clearing of the current output cell\n",
       "var outputEl = gd.closest('.output');\n",
       "if (outputEl) {{\n",
       "    x.observe(outputEl, {childList: true});\n",
       "}}\n",
       "\n",
       "                        })\n",
       "                };\n",
       "                });\n",
       "            </script>\n",
       "        </div>"
      ]
     },
     "metadata": {},
     "output_type": "display_data"
    }
   ],
   "source": [
    "predictions_ARIMA_diff = pd.Series(results_mean.fittedvalues, copy = True)\n",
    "predictions_ARIMA_diff_cumsum = predictions_ARIMA_diff.cumsum()\n",
    "# Predictions_ARIMA_log = pd.Series(df_log['confirmed'].iloc[0], index = df_log.index)\n",
    "Predictions_ARIMA_log = pd.Series(df_log['confirmed'].iloc[0], index = predictions_ARIMA_diff_cumsum.index)\n",
    "Predictions_ARIMA_log = Predictions_ARIMA_log.add(predictions_ARIMA_diff_cumsum, fill_value = 0)\n",
    "Predictions_ARIMA = np.exp(Predictions_ARIMA_log)\n",
    "\n",
    "RMSE = np.sqrt(sum((df.ix[predictions_ARIMA_diff_cumsum.index,0]-Predictions_ARIMA)**2)/Predictions_ARIMA.size)\n",
    "print('RMSE: %.4f'% RMSE)\n",
    "\n",
    "# convert Series file to Data Frame\n",
    "df_pred =Predictions_ARIMA.to_frame()\n",
    "df_pred.rename(columns={0:'predicted'}, inplace=True)\n",
    "\n",
    "trace0 = go.Scatter(y = df['confirmed'],x = df.index, mode = 'lines, markers',name = 'Confirmed Cases')\n",
    "trace1 = go.Scatter(y = df_pred['predicted'],x = df_pred.index,mode = 'lines, markers',name = 'Predicted Cases')\n",
    "\n",
    "data = [trace0, trace1]\n",
    "layout = dict(\n",
    "    title = 'Comparison Between Confirmed and Predicted Cases of USA'+'<br>'+'RMSE: %.4f'% RMSE, \n",
    "    xaxis=dict(\n",
    "        title= dict(text = 'Date',font = dict(color = 'black')),\n",
    "        tickangle = -45,\n",
    "        tickfont=dict(size = 4),\n",
    "        automargin=True)\n",
    ")\n",
    "\n",
    "fig = go.Figure(data, layout)\n",
    "off.iplot(fig)\n",
    "fig.write_html('Plots/ComparisonOriginalandPredicted.html')    # save as html file\n",
    "fig.write_image('Plots/ComparisonOriginalandPredicted.pdf')    # save as image file"
   ]
  },
  {
   "cell_type": "markdown",
   "metadata": {},
   "source": [
    "##### Combine the predicted data into the original table"
   ]
  },
  {
   "cell_type": "code",
   "execution_count": 21,
   "metadata": {},
   "outputs": [],
   "source": [
    "## convert columns to row\n",
    "bb =df_pred.rename_axis(None).astype(int).T\n",
    "## Append to the original table\n",
    "namelist = ['Province/State','Country/Region','Lat','Long',' Population ','region']\n",
    "predTable=df_UnitedStates.drop(namelist, axis=1).reset_index(drop=True)\n",
    "predTable.rename(index={0:'confirmed'},inplace=True)\n",
    "predTable.ix['predicte',2:]=bb.iloc[0].values\n",
    "\n",
    "predTable.to_csv('Files/Internal Prediction Table_USA.csv')"
   ]
  },
  {
   "cell_type": "markdown",
   "metadata": {},
   "source": [
    "## Check Residual"
   ]
  },
  {
   "cell_type": "markdown",
   "metadata": {},
   "source": [
    "https://otexts.com/fpp2/residuals.html\n",
    "1. The residuals are uncorrelated. If there are correlations between residuals, then there is information left in the residuals which should be used in computing forecasts.\n",
    "2. The residuals have zero mean. If the residuals have a mean other than zero, then the forecasts are biased.\n",
    "\n",
    "3. The residuals have constant variance.\n",
    "4. The residuals are normally distributed."
   ]
  },
  {
   "cell_type": "markdown",
   "metadata": {},
   "source": [
    "### 1. check if residuals are uncorrelated"
   ]
  },
  {
   "cell_type": "markdown",
   "metadata": {},
   "source": [
    "##### The lack of correlation suggesting the forecasts are good\n",
    "If no significant correlations are present, you can conclude that the residuals are independent. However, you may see 1 or 2 significant correlations at higher order lags that are not seasonal lags. These correlations are usually caused by random error instead and are not a sign that the assumption is not met. In this case, you can conclude that the residuals are independent.\n",
    "\n",
    "\n",
    "###### a.  Plots visualization"
   ]
  },
  {
   "cell_type": "code",
   "execution_count": 26,
   "metadata": {},
   "outputs": [
    {
     "data": {
      "image/png": "[encoded data removed]",
      "text/plain": [
       "<Figure size 864x576 with 2 Axes>"
      ]
     },
     "metadata": {
      "needs_background": "light"
     },
     "output_type": "display_data"
    }
   ],
   "source": [
    "fig = plt.figure(figsize = (12, 8))\n",
    "ax1 = fig.add_subplot(211)\n",
    "fig = sm.graphics.tsa.plot_acf(results_mean.resid.values.squeeze(),\n",
    "                              lags = 25, ax = ax1)\n",
    "ax2 = fig.add_subplot(212)\n",
    "fig = sm.graphics.tsa.plot_pacf(results_mean.resid.values.squeeze(),\n",
    "                               lags = 25, ax = ax2)\n",
    "plt.savefig('ARIMA/ACF and PACF _residual_USA.pdf')\n",
    "plt.show()"
   ]
  },
  {
   "cell_type": "markdown",
   "metadata": {},
   "source": [
    "###### b. Using Durbin-Watson "
   ]
  },
  {
   "cell_type": "markdown",
   "metadata": {},
   "source": [
    "Using Durbin-Watson (only for first order diffferencing  ??)\n",
    "\n",
    "0<= DW<= 4 DW = 0 => p = 1 positive autocorrelation\n",
    "\n",
    "DW = 4 => p =-1 negative autocorrelation\n",
    "\n",
    "DW = 2 => p = 0 no autocorrelation\n",
    "\n",
    "Durbin Watson Statistic Definition By WILL KENTON Updated Jul 18, 2019 What Is the Durbin Watson Statistic? The Durbin Watson (DW) statistic is a test for autocorrelation in the residuals from a statistical regression analysis. The Durbin-Watson statistic will always have a value between 0 and 4. A value of 2.0 means that there is no autocorrelation detected in the sample. Values from 0 to less than 2 indicate positive autocorrelation and values from from 2 to 4 indicate negative autocorrelation."
   ]
  },
  {
   "cell_type": "code",
   "execution_count": 27,
   "metadata": {},
   "outputs": [
    {
     "name": "stdout",
     "output_type": "stream",
     "text": [
      "2.0331424584092126\n"
     ]
    }
   ],
   "source": [
    "print(sm.stats.durbin_watson(results_mean.resid.values))"
   ]
  },
  {
   "cell_type": "markdown",
   "metadata": {},
   "source": [
    "### 2. Check if residuals are normal distributed"
   ]
  },
  {
   "cell_type": "code",
   "execution_count": 28,
   "metadata": {},
   "outputs": [
    {
     "data": {
      "image/png": "[encoded data removed]",
      "text/plain": [
       "<Figure size 432x288 with 1 Axes>"
      ]
     },
     "metadata": {
      "needs_background": "light"
     },
     "output_type": "display_data"
    }
   ],
   "source": [
    "plt.hist(results_mean.resid.values.squeeze(), bins=10, edgecolor = 'black') \n",
    "plt.show()"
   ]
  },
  {
   "cell_type": "code",
   "execution_count": 29,
   "metadata": {},
   "outputs": [
    {
     "data": {
      "image/png": "[encoded data removed]",
      "text/plain": [
       "<Figure size 432x288 with 1 Axes>"
      ]
     },
     "metadata": {
      "needs_background": "light"
     },
     "output_type": "display_data"
    }
   ],
   "source": [
    "import seaborn as sns\n",
    "# Density Plot and Histogram of all arrival delays\n",
    "sns.distplot(results_mean.resid.values.squeeze(), hist=True, kde=True, \n",
    "             bins=10, color = 'darkblue', \n",
    "             hist_kws={'edgecolor':'black'},\n",
    "             kde_kws={'linewidth': 4})\n",
    "plt.savefig('ARIMA/Histogram_residual_USA.pdf')\n",
    "plt.show()"
   ]
  },
  {
   "cell_type": "code",
   "execution_count": 30,
   "metadata": {},
   "outputs": [
    {
     "data": {
      "image/png": "[encoded data removed]",
      "text/plain": [
       "<Figure size 864x576 with 1 Axes>"
      ]
     },
     "metadata": {
      "needs_background": "light"
     },
     "output_type": "display_data"
    }
   ],
   "source": [
    "fig = plt.figure(figsize= (12,8))\n",
    "ax1 = fig.add_subplot(111)\n",
    "fig = qqplot(results_mean.resid, ax = ax1, line='q')\n",
    "plt.savefig('ARIMA/ggplot_residual_USA.pdf')\n",
    "plt.show()"
   ]
  },
  {
   "cell_type": "markdown",
   "metadata": {},
   "source": [
    "### 4. Check if residuals have zero mean"
   ]
  },
  {
   "cell_type": "code",
   "execution_count": 61,
   "metadata": {},
   "outputs": [
    {
     "name": "stdout",
     "output_type": "stream",
     "text": [
      "mean of the residuals: -0.0025\n"
     ]
    },
    {
     "data": {
      "image/png": "[encoded data removed]",
      "text/plain": [
       "<Figure size 864x288 with 1 Axes>"
      ]
     },
     "metadata": {
      "needs_background": "light"
     },
     "output_type": "display_data"
    }
   ],
   "source": [
    "fig, ax = plt.subplots(figsize= (12,4))\n",
    "plt.plot(results_mean.resid.values.squeeze())\n",
    "ax.hlines(0, 0, 60, linestyle='--', color='r');\n",
    "plt.savefig('ARIMA/Residual Mean_USA.pdf')\n",
    "print('mean of the residuals: {:0.4f}'.format(results_mean.resid.values.mean()))\n",
    "plt.show()"
   ]
  },
  {
   "cell_type": "markdown",
   "metadata": {},
   "source": [
    "## Predictions\n",
    "Highly recommend to put data in a DataFrame with a DateTimeIndex, because the plot_predict() method really likes dates"
   ]
  },
  {
   "cell_type": "markdown",
   "metadata": {},
   "source": [
    "### Prediction of internal sample data"
   ]
  },
  {
   "cell_type": "code",
   "execution_count": 19,
   "metadata": {},
   "outputs": [
    {
     "name": "stdout",
     "output_type": "stream",
     "text": [
      "Start Date of forecast:  2020-03-10\n"
     ]
    },
    {
     "data": {
      "image/png": "[encoded data removed]",
      "text/plain": [
       "<Figure size 1080x432 with 1 Axes>"
      ]
     },
     "metadata": {
      "needs_background": "light"
     },
     "output_type": "display_data"
    }
   ],
   "source": [
    "n = 12\n",
    "\n",
    "model_test = ARIMA(df_log_minus_mean.dropna()[:-n], (1, 0, 0))\n",
    "results_mean_test = model_test.fit()\n",
    "\n",
    "startDate = df_log_minus_mean.dropna()[:-n].index[-1]\n",
    "print('Start Date of forecast: ', startDate)\n",
    "\n",
    "fig, ax = plt.subplots(figsize=(15, 6))\n",
    "df_log_minus_mean.dropna().plot(ax=ax);\n",
    "ax.vlines(startDate, 0, 1.5, linestyle='--', color='r', label='Start of forecast');\n",
    "plt.title('Start Date of forecast: '+str(startDate))\n",
    "ax = results_mean_test.plot_predict(start=startDate,end='2020, 3, 22', dynamic=True,plot_insample=False,ax=ax)\n",
    "plt.savefig('ARIMA/Prediction_internalSample_USA.pdf')\n",
    "plt.show()"
   ]
  },
  {
   "cell_type": "markdown",
   "metadata": {},
   "source": [
    "### Prediction of out-of-sample data"
   ]
  },
  {
   "cell_type": "code",
   "execution_count": 62,
   "metadata": {},
   "outputs": [
    {
     "data": {
      "image/png": "[encoded data removed]",
      "text/plain": [
       "<Figure size 1080x432 with 1 Axes>"
      ]
     },
     "metadata": {
      "needs_background": "light"
     },
     "output_type": "display_data"
    }
   ],
   "source": [
    "fig, ax = plt.subplots(figsize=(15, 6))\n",
    "df_log_minus_mean.dropna().plot(ax=ax);\n",
    "ax.vlines('2020, 3, 22', 0, 1.5, linestyle='--', color='r', label='Start of forecast');\n",
    "# ax = results_mean.plot_predict(1,91, ax=ax) # other way to put in index number for start and end points\n",
    "# # 10-day forecast\n",
    "# ax = results_mean.plot_predict(start=results_mean.fittedvalues.index[0],end='2020, 4, 1', ax=ax)\n",
    "# 9-day forecast\n",
    "ax = results_mean.plot_predict(start=results_mean.fittedvalues.index[0],end='2020, 3, 31', ax=ax)\n",
    "plt.savefig('ARIMA/Prediction_outOfSample_USA.pdf')\n",
    "plt.show()"
   ]
  },
  {
   "cell_type": "markdown",
   "metadata": {},
   "source": [
    "## Convert prediction/forecast back to original scale\n",
    "\n",
    "https://machinelearningmastery.com/make-sample-forecasts-arima-python/\n",
    "\n",
    "The predict() function can also forecast the next n out-of-sample time steps. Running the example produces the same results as calling the forecast() function, as you would expect.\n"
   ]
  },
  {
   "cell_type": "code",
   "execution_count": 52,
   "metadata": {},
   "outputs": [
    {
     "data": {
      "application/vnd.plotly.v1+json": {
       "config": {
        "linkText": "Export to plot.ly",
        "plotlyServerURL": "https://plot.ly",
        "showLink": false
       },
       "data": [
        {
         "mode": "markers+lines",
         "name": "Confirmed Cases",
         "type": "scatter",
         "uid": "cb1bc13e-b2dc-4ddb-8650-bb202a50c05b",
         "x": [
          "2020-01-22",
          "2020-01-23",
          "2020-01-24",
          "2020-01-25",
          "2020-01-26",
          "2020-01-27",
          "2020-01-28",
          "2020-01-29",
          "2020-01-30",
          "2020-01-31",
          "2020-02-01",
          "2020-02-02",
          "2020-02-03",
          "2020-02-04",
          "2020-02-05",
          "2020-02-06",
          "2020-02-07",
          "2020-02-08",
          "2020-02-09",
          "2020-02-10",
          "2020-02-11",
          "2020-02-12",
          "2020-02-13",
          "2020-02-14",
          "2020-02-15",
          "2020-02-16",
          "2020-02-17",
          "2020-02-18",
          "2020-02-19",
          "2020-02-20",
          "2020-02-21",
          "2020-02-22",
          "2020-02-23",
          "2020-02-24",
          "2020-02-25",
          "2020-02-26",
          "2020-02-27",
          "2020-02-28",
          "2020-02-29",
          "2020-03-01",
          "2020-03-02",
          "2020-03-03",
          "2020-03-04",
          "2020-03-05",
          "2020-03-06",
          "2020-03-07",
          "2020-03-08",
          "2020-03-09",
          "2020-03-10",
          "2020-03-11",
          "2020-03-12",
          "2020-03-13",
          "2020-03-14",
          "2020-03-15",
          "2020-03-16",
          "2020-03-17",
          "2020-03-18",
          "2020-03-19",
          "2020-03-20",
          "2020-03-21",
          "2020-03-22"
         ],
         "y": [
          1,
          1,
          2,
          2,
          5,
          5,
          5,
          5,
          5,
          7,
          8,
          8,
          11,
          11,
          11,
          11,
          11,
          11,
          11,
          11,
          12,
          12,
          13,
          13,
          13,
          13,
          13,
          13,
          13,
          13,
          15,
          15,
          15,
          51,
          51,
          57,
          58,
          60,
          68,
          74,
          98,
          118,
          149,
          217,
          262,
          402,
          518,
          583,
          959,
          1281,
          1663,
          2179,
          2727,
          3499,
          4632,
          6421,
          7783,
          13677,
          19100,
          25489,
          33272
         ]
        },
        {
         "mode": "markers+lines",
         "name": "Predicted Cases",
         "type": "scatter",
         "uid": "ea833e59-b355-4f3b-b5a3-b1c6d2b6e3a0",
         "x": [
          "2020-01-24",
          "2020-01-25",
          "2020-01-26",
          "2020-01-27",
          "2020-01-28",
          "2020-01-29",
          "2020-01-30",
          "2020-01-31",
          "2020-02-01",
          "2020-02-02",
          "2020-02-03",
          "2020-02-04",
          "2020-02-05",
          "2020-02-06",
          "2020-02-07",
          "2020-02-08",
          "2020-02-09",
          "2020-02-10",
          "2020-02-11",
          "2020-02-12",
          "2020-02-13",
          "2020-02-14",
          "2020-02-15",
          "2020-02-16",
          "2020-02-17",
          "2020-02-18",
          "2020-02-19",
          "2020-02-20",
          "2020-02-21",
          "2020-02-22",
          "2020-02-23",
          "2020-02-24",
          "2020-02-25",
          "2020-02-26",
          "2020-02-27",
          "2020-02-28",
          "2020-02-29",
          "2020-03-01",
          "2020-03-02",
          "2020-03-03",
          "2020-03-04",
          "2020-03-05",
          "2020-03-06",
          "2020-03-07",
          "2020-03-08",
          "2020-03-09",
          "2020-03-10",
          "2020-03-11",
          "2020-03-12",
          "2020-03-13",
          "2020-03-14",
          "2020-03-15",
          "2020-03-16",
          "2020-03-17",
          "2020-03-18",
          "2020-03-19",
          "2020-03-20",
          "2020-03-21",
          "2020-03-22",
          "2020-03-23",
          "2020-03-24",
          "2020-03-25",
          "2020-03-26",
          "2020-03-27",
          "2020-03-28",
          "2020-03-29",
          "2020-03-30",
          "2020-03-31"
         ],
         "y": [
          1,
          1,
          2,
          3,
          3,
          4,
          4,
          5,
          6,
          7,
          8,
          10,
          11,
          13,
          14,
          15,
          16,
          18,
          19,
          22,
          24,
          27,
          30,
          33,
          36,
          39,
          43,
          47,
          51,
          58,
          65,
          71,
          119,
          162,
          183,
          205,
          227,
          260,
          298,
          364,
          445,
          544,
          706,
          878,
          1151,
          1479,
          1757,
          2331,
          3072,
          3862,
          4848,
          5997,
          7423,
          9332,
          11991,
          14812,
          20378,
          27601,
          35323,
          44493,
          54778,
          66628,
          80521,
          96979,
          116589,
          140029,
          168096,
          201734
         ]
        }
       ],
       "layout": {
        "title": {
         "text": " 9-day Forecast of Confirmed Cases in USA <br>March 23, 2020 - March 31, 2020"
        },
        "xaxis": {
         "automargin": true,
         "tickangle": -45,
         "tickfont": {
          "size": 4
         },
         "title": {
          "font": {
           "color": "black"
          },
          "text": "Date"
         }
        }
       }
      },
      "text/html": [
       "<div>\n",
       "        \n",
       "        \n",
       "            <div id=\"6cff885a-27f1-4209-844e-c1db96382f21\" class=\"plotly-graph-div\" style=\"height:525px; width:100%;\"></div>\n",
       "            <script type=\"text/javascript\">\n",
       "                require([\"plotly\"], function(Plotly) {\n",
       "                    window.PLOTLYENV=window.PLOTLYENV || {};\n",
       "                    window.PLOTLYENV.BASE_URL='https://plot.ly';\n",
       "                    \n",
       "                if (document.getElementById(\"6cff885a-27f1-4209-844e-c1db96382f21\")) {\n",
       "                    Plotly.newPlot(\n",
       "                        '6cff885a-27f1-4209-844e-c1db96382f21',\n",
       "                        [{\"mode\": \"markers+lines\", \"name\": \"Confirmed Cases\", \"type\": \"scatter\", \"uid\": \"cb1bc13e-b2dc-4ddb-8650-bb202a50c05b\", \"x\": [\"2020-01-22\", \"2020-01-23\", \"2020-01-24\", \"2020-01-25\", \"2020-01-26\", \"2020-01-27\", \"2020-01-28\", \"2020-01-29\", \"2020-01-30\", \"2020-01-31\", \"2020-02-01\", \"2020-02-02\", \"2020-02-03\", \"2020-02-04\", \"2020-02-05\", \"2020-02-06\", \"2020-02-07\", \"2020-02-08\", \"2020-02-09\", \"2020-02-10\", \"2020-02-11\", \"2020-02-12\", \"2020-02-13\", \"2020-02-14\", \"2020-02-15\", \"2020-02-16\", \"2020-02-17\", \"2020-02-18\", \"2020-02-19\", \"2020-02-20\", \"2020-02-21\", \"2020-02-22\", \"2020-02-23\", \"2020-02-24\", \"2020-02-25\", \"2020-02-26\", \"2020-02-27\", \"2020-02-28\", \"2020-02-29\", \"2020-03-01\", \"2020-03-02\", \"2020-03-03\", \"2020-03-04\", \"2020-03-05\", \"2020-03-06\", \"2020-03-07\", \"2020-03-08\", \"2020-03-09\", \"2020-03-10\", \"2020-03-11\", \"2020-03-12\", \"2020-03-13\", \"2020-03-14\", \"2020-03-15\", \"2020-03-16\", \"2020-03-17\", \"2020-03-18\", \"2020-03-19\", \"2020-03-20\", \"2020-03-21\", \"2020-03-22\"], \"y\": [1, 1, 2, 2, 5, 5, 5, 5, 5, 7, 8, 8, 11, 11, 11, 11, 11, 11, 11, 11, 12, 12, 13, 13, 13, 13, 13, 13, 13, 13, 15, 15, 15, 51, 51, 57, 58, 60, 68, 74, 98, 118, 149, 217, 262, 402, 518, 583, 959, 1281, 1663, 2179, 2727, 3499, 4632, 6421, 7783, 13677, 19100, 25489, 33272]}, {\"mode\": \"markers+lines\", \"name\": \"Predicted Cases\", \"type\": \"scatter\", \"uid\": \"ea833e59-b355-4f3b-b5a3-b1c6d2b6e3a0\", \"x\": [\"2020-01-24\", \"2020-01-25\", \"2020-01-26\", \"2020-01-27\", \"2020-01-28\", \"2020-01-29\", \"2020-01-30\", \"2020-01-31\", \"2020-02-01\", \"2020-02-02\", \"2020-02-03\", \"2020-02-04\", \"2020-02-05\", \"2020-02-06\", \"2020-02-07\", \"2020-02-08\", \"2020-02-09\", \"2020-02-10\", \"2020-02-11\", \"2020-02-12\", \"2020-02-13\", \"2020-02-14\", \"2020-02-15\", \"2020-02-16\", \"2020-02-17\", \"2020-02-18\", \"2020-02-19\", \"2020-02-20\", \"2020-02-21\", \"2020-02-22\", \"2020-02-23\", \"2020-02-24\", \"2020-02-25\", \"2020-02-26\", \"2020-02-27\", \"2020-02-28\", \"2020-02-29\", \"2020-03-01\", \"2020-03-02\", \"2020-03-03\", \"2020-03-04\", \"2020-03-05\", \"2020-03-06\", \"2020-03-07\", \"2020-03-08\", \"2020-03-09\", \"2020-03-10\", \"2020-03-11\", \"2020-03-12\", \"2020-03-13\", \"2020-03-14\", \"2020-03-15\", \"2020-03-16\", \"2020-03-17\", \"2020-03-18\", \"2020-03-19\", \"2020-03-20\", \"2020-03-21\", \"2020-03-22\", \"2020-03-23\", \"2020-03-24\", \"2020-03-25\", \"2020-03-26\", \"2020-03-27\", \"2020-03-28\", \"2020-03-29\", \"2020-03-30\", \"2020-03-31\"], \"y\": [1, 1, 2, 3, 3, 4, 4, 5, 6, 7, 8, 10, 11, 13, 14, 15, 16, 18, 19, 22, 24, 27, 30, 33, 36, 39, 43, 47, 51, 58, 65, 71, 119, 162, 183, 205, 227, 260, 298, 364, 445, 544, 706, 878, 1151, 1479, 1757, 2331, 3072, 3862, 4848, 5997, 7423, 9332, 11991, 14812, 20378, 27601, 35323, 44493, 54778, 66628, 80521, 96979, 116589, 140029, 168096, 201734]}],\n",
       "                        {\"title\": {\"text\": \" 9-day Forecast of Confirmed Cases in USA <br>March 23, 2020 - March 31, 2020\"}, \"xaxis\": {\"automargin\": true, \"tickangle\": -45, \"tickfont\": {\"size\": 4}, \"title\": {\"font\": {\"color\": \"black\"}, \"text\": \"Date\"}}},\n",
       "                        {\"showLink\": false, \"linkText\": \"Export to plot.ly\", \"plotlyServerURL\": \"https://plot.ly\", \"responsive\": true}\n",
       "                    ).then(function(){\n",
       "                            \n",
       "var gd = document.getElementById('6cff885a-27f1-4209-844e-c1db96382f21');\n",
       "var x = new MutationObserver(function (mutations, observer) {{\n",
       "        var display = window.getComputedStyle(gd).display;\n",
       "        if (!display || display === 'none') {{\n",
       "            console.log([gd, 'removed!']);\n",
       "            Plotly.purge(gd);\n",
       "            observer.disconnect();\n",
       "        }}\n",
       "}});\n",
       "\n",
       "// Listen for the removal of the full notebook cells\n",
       "var notebookContainer = gd.closest('#notebook-container');\n",
       "if (notebookContainer) {{\n",
       "    x.observe(notebookContainer, {childList: true});\n",
       "}}\n",
       "\n",
       "// Listen for the clearing of the current output cell\n",
       "var outputEl = gd.closest('.output');\n",
       "if (outputEl) {{\n",
       "    x.observe(outputEl, {childList: true});\n",
       "}}\n",
       "\n",
       "                        })\n",
       "                };\n",
       "                });\n",
       "            </script>\n",
       "        </div>"
      ]
     },
     "metadata": {},
     "output_type": "display_data"
    }
   ],
   "source": [
    "# # 10-day forecast\n",
    "# prediction_mean=results_mean.predict(start='2020, 1, 24',end='2020, 4, 1')\n",
    "# 9-day forecast\n",
    "prediction_mean=results_mean.predict(start='2020, 1, 24',end='2020, 3, 31')\n",
    "\n",
    "predictions_ARIMA_diff = pd.Series(prediction_mean, copy = True)\n",
    "# predictions_ARIMA_diff = pd.Series(results_mean.fittedvalues, copy = True)\n",
    "predictions_ARIMA_diff_cumsum = predictions_ARIMA_diff.cumsum()\n",
    "Predictions_ARIMA_log = pd.Series(df_log['confirmed'].iloc[0], index = predictions_ARIMA_diff_cumsum.index)\n",
    "Predictions_ARIMA_log = Predictions_ARIMA_log.add(predictions_ARIMA_diff_cumsum, fill_value = 0)\n",
    "Predictions_ARIMA_new = np.exp(Predictions_ARIMA_log)\n",
    "\n",
    "df_pred =Predictions_ARIMA_new.to_frame().astype(int)\n",
    "df_pred.rename(columns={0:'Predicted'}, inplace=True)\n",
    "\n",
    "trace0 = go.Scatter(y = df['confirmed'],x = df.index,mode = 'markers+lines',name = 'Confirmed Cases')\n",
    "trace1 = go.Scatter(y = df_pred['Predicted'],x = df_pred.index, mode = 'markers+lines',name = 'Predicted Cases')\n",
    "\n",
    "data = [trace0, trace1]\n",
    "layout = dict(\n",
    "#     title = ' Future Forecast of Confirmed Cases in USA', \n",
    "    title = ' 9-day Forecast of Confirmed Cases in USA '+'<br>' + 'March 23, 2020 - March 31, 2020',\n",
    "    xaxis=dict(\n",
    "        title= dict(text = 'Date',font = dict(color = 'black')),\n",
    "        tickangle = -45,\n",
    "        tickfont=dict(size = 4),\n",
    "        automargin=True)\n",
    ")\n",
    "\n",
    "fig = go.Figure(data, layout)\n",
    "off.iplot(fig)\n",
    "# 9 day forecast\n",
    "fig.write_html('Plots/9-day Forecast_USA.html')    # save as html file\n",
    "fig.write_image('Plots/9-day Forecast_USA.pdf')    # save as image file\n",
    "\n",
    "# # 10 day forecast\n",
    "# fig.write_html('Plots/Future Prediction_USA.html')    # save as html file\n",
    "# fig.write_image('Plots/Future Prediction_USA.pdf')    # save as image file"
   ]
  },
  {
   "cell_type": "code",
   "execution_count": 53,
   "metadata": {},
   "outputs": [
    {
     "data": {
      "text/html": [
       "<div>\n",
       "<style scoped>\n",
       "    .dataframe tbody tr th:only-of-type {\n",
       "        vertical-align: middle;\n",
       "    }\n",
       "\n",
       "    .dataframe tbody tr th {\n",
       "        vertical-align: top;\n",
       "    }\n",
       "\n",
       "    .dataframe thead th {\n",
       "        text-align: right;\n",
       "    }\n",
       "</style>\n",
       "<table border=\"1\" class=\"dataframe\">\n",
       "  <thead>\n",
       "    <tr style=\"text-align: right;\">\n",
       "      <th></th>\n",
       "      <th>Predicted</th>\n",
       "    </tr>\n",
       "  </thead>\n",
       "  <tbody>\n",
       "    <tr>\n",
       "      <th>2020-03-23</th>\n",
       "      <td>44493</td>\n",
       "    </tr>\n",
       "    <tr>\n",
       "      <th>2020-03-24</th>\n",
       "      <td>54778</td>\n",
       "    </tr>\n",
       "    <tr>\n",
       "      <th>2020-03-25</th>\n",
       "      <td>66628</td>\n",
       "    </tr>\n",
       "    <tr>\n",
       "      <th>2020-03-26</th>\n",
       "      <td>80521</td>\n",
       "    </tr>\n",
       "    <tr>\n",
       "      <th>2020-03-27</th>\n",
       "      <td>96979</td>\n",
       "    </tr>\n",
       "    <tr>\n",
       "      <th>2020-03-28</th>\n",
       "      <td>116589</td>\n",
       "    </tr>\n",
       "    <tr>\n",
       "      <th>2020-03-29</th>\n",
       "      <td>140029</td>\n",
       "    </tr>\n",
       "    <tr>\n",
       "      <th>2020-03-30</th>\n",
       "      <td>168096</td>\n",
       "    </tr>\n",
       "    <tr>\n",
       "      <th>2020-03-31</th>\n",
       "      <td>201734</td>\n",
       "    </tr>\n",
       "  </tbody>\n",
       "</table>\n",
       "</div>"
      ],
      "text/plain": [
       "            Predicted\n",
       "2020-03-23      44493\n",
       "2020-03-24      54778\n",
       "2020-03-25      66628\n",
       "2020-03-26      80521\n",
       "2020-03-27      96979\n",
       "2020-03-28     116589\n",
       "2020-03-29     140029\n",
       "2020-03-30     168096\n",
       "2020-03-31     201734"
      ]
     },
     "execution_count": 53,
     "metadata": {},
     "output_type": "execute_result"
    }
   ],
   "source": [
    "# 9-day forecast values\n",
    "df_pred[-9:]"
   ]
  },
  {
   "cell_type": "markdown",
   "metadata": {
    "collapsed": true
   },
   "source": [
    "##### Combine the original data into forecast table"
   ]
  },
  {
   "cell_type": "code",
   "execution_count": 23,
   "metadata": {
    "collapsed": true
   },
   "outputs": [
    {
     "ename": "AttributeError",
     "evalue": "'Index' object has no attribute 'date'",
     "output_type": "error",
     "traceback": [
      "\u001b[0;31m---------------------------------------------------------------------------\u001b[0m",
      "\u001b[0;31mAttributeError\u001b[0m                            Traceback (most recent call last)",
      "\u001b[0;32m<ipython-input-23-1171af2c178f>\u001b[0m in \u001b[0;36m<module>\u001b[0;34m\u001b[0m\n\u001b[1;32m      1\u001b[0m \u001b[0mnamelist\u001b[0m \u001b[0;34m=\u001b[0m \u001b[0;34m[\u001b[0m\u001b[0;34m'Province/State'\u001b[0m\u001b[0;34m,\u001b[0m\u001b[0;34m'Country/Region'\u001b[0m\u001b[0;34m,\u001b[0m\u001b[0;34m'Lat'\u001b[0m\u001b[0;34m,\u001b[0m\u001b[0;34m'Long'\u001b[0m\u001b[0;34m,\u001b[0m\u001b[0;34m' Population '\u001b[0m\u001b[0;34m,\u001b[0m\u001b[0;34m'region'\u001b[0m\u001b[0;34m]\u001b[0m\u001b[0;31m## convert IndexDatetime to 'date'\u001b[0m\u001b[0;34m\u001b[0m\u001b[0;34m\u001b[0m\u001b[0m\n\u001b[0;32m----> 2\u001b[0;31m \u001b[0mdf_pred\u001b[0m\u001b[0;34m.\u001b[0m\u001b[0mindex\u001b[0m\u001b[0;34m=\u001b[0m\u001b[0mdf_pred\u001b[0m\u001b[0;34m.\u001b[0m\u001b[0mindex\u001b[0m\u001b[0;34m.\u001b[0m\u001b[0mdate\u001b[0m\u001b[0;34m\u001b[0m\u001b[0;34m\u001b[0m\u001b[0m\n\u001b[0m\u001b[1;32m      3\u001b[0m \u001b[0;31m## convert columns to row\u001b[0m\u001b[0;34m\u001b[0m\u001b[0;34m\u001b[0m\u001b[0;34m\u001b[0m\u001b[0m\n\u001b[1;32m      4\u001b[0m \u001b[0mforecastTable\u001b[0m \u001b[0;34m=\u001b[0m\u001b[0mdf_pred\u001b[0m\u001b[0;34m.\u001b[0m\u001b[0mrename_axis\u001b[0m\u001b[0;34m(\u001b[0m\u001b[0;32mNone\u001b[0m\u001b[0;34m)\u001b[0m\u001b[0;34m.\u001b[0m\u001b[0mastype\u001b[0m\u001b[0;34m(\u001b[0m\u001b[0mint\u001b[0m\u001b[0;34m)\u001b[0m\u001b[0;34m.\u001b[0m\u001b[0mT\u001b[0m\u001b[0;34m\u001b[0m\u001b[0;34m\u001b[0m\u001b[0m\n\u001b[1;32m      5\u001b[0m \u001b[0;31m## Append to the original table\u001b[0m\u001b[0;34m\u001b[0m\u001b[0;34m\u001b[0m\u001b[0;34m\u001b[0m\u001b[0m\n",
      "\u001b[0;31mAttributeError\u001b[0m: 'Index' object has no attribute 'date'"
     ]
    }
   ],
   "source": [
    "# namelist = ['Province/State','Country/Region','Lat','Long',' Population ','region']## convert IndexDatetime to 'date'\n",
    "df_pred.index=df_pred.index.date\n",
    "## convert columns to row\n",
    "forecastTable =df_pred.rename_axis(None).astype(int).T\n",
    "## Append to the original table\n",
    "confirmedTable=df_UnitedStates.drop(namelist, axis=1).reset_index(drop=True)\n",
    "confirmedTable.rename(index={0:'confirmed'},inplace=True)\n",
    "forecastTable.ix['confirmed', 0:(confirmedTable.shape[1]-2)]=confirmedTable.ix[0, 2:].values\n",
    "\n",
    "# forecastTable.to_csv('Files/FutureforcastTable_USA.csv')"
   ]
  },
  {
   "cell_type": "markdown",
   "metadata": {},
   "source": [
    "### Final Estimates of Parameters"
   ]
  },
  {
   "cell_type": "code",
   "execution_count": 25,
   "metadata": {},
   "outputs": [
    {
     "data": {
      "text/plain": [
       "const              0.182107\n",
       "ar.L1.confirmed    0.530883\n",
       "dtype: float64"
      ]
     },
     "execution_count": 25,
     "metadata": {},
     "output_type": "execute_result"
    }
   ],
   "source": [
    "results_mean.params"
   ]
  },
  {
   "cell_type": "code",
   "execution_count": 26,
   "metadata": {},
   "outputs": [
    {
     "data": {
      "text/plain": [
       "const              0.000034\n",
       "ar.L1.confirmed    0.000015\n",
       "dtype: float64"
      ]
     },
     "execution_count": 26,
     "metadata": {},
     "output_type": "execute_result"
    }
   ],
   "source": [
    "results_mean.pvalues"
   ]
  },
  {
   "cell_type": "code",
   "execution_count": null,
   "metadata": {},
   "outputs": [],
   "source": []
  },
  {
   "cell_type": "markdown",
   "metadata": {},
   "source": [
    "https://www.statsmodels.org/stable/generated/statsmodels.tsa.arima_model.ARMAResults.forecast.html\n",
    "\n",
    "ARMAResults.forecast(steps=1, exog=None, alpha=0.05)[source]"
   ]
  },
  {
   "cell_type": "markdown",
   "metadata": {},
   "source": [
    "https://machinelearningmastery.com/make-sample-forecasts-arima-python/\n",
    "    \n",
    "\n",
    "The predict() function can also forecast the next n out-of-sample time steps. Running the example produces the same results as calling the forecast() function, as you would expect.\n",
    "\n"
   ]
  },
  {
   "cell_type": "code",
   "execution_count": 46,
   "metadata": {},
   "outputs": [
    {
     "data": {
      "text/plain": [
       "array([0.23080239, 0.20795851, 0.19583108, 0.18939283, 0.18597488,\n",
       "       0.18416034, 0.18319704, 0.18268563, 0.18241414, 0.18227001])"
      ]
     },
     "execution_count": 46,
     "metadata": {},
     "output_type": "execute_result"
    }
   ],
   "source": [
    "results_mean.forecast(steps=10, exog=None, alpha=0.05)[0]"
   ]
  },
  {
   "cell_type": "code",
   "execution_count": 49,
   "metadata": {},
   "outputs": [
    {
     "data": {
      "text/plain": [
       "2020-03-23    0.230802\n",
       "2020-03-24    0.207959\n",
       "2020-03-25    0.195831\n",
       "2020-03-26    0.189393\n",
       "2020-03-27    0.185975\n",
       "2020-03-28    0.184160\n",
       "2020-03-29    0.183197\n",
       "2020-03-30    0.182686\n",
       "2020-03-31    0.182414\n",
       "2020-04-01    0.182270\n",
       "Freq: D, dtype: float64"
      ]
     },
     "execution_count": 49,
     "metadata": {},
     "output_type": "execute_result"
    }
   ],
   "source": [
    "prediction_mean[-10:]"
   ]
  },
  {
   "cell_type": "markdown",
   "metadata": {},
   "source": [
    "##### Retrieve the confidence Intervals from forecase"
   ]
  },
  {
   "cell_type": "code",
   "execution_count": 64,
   "metadata": {},
   "outputs": [],
   "source": [
    "results_forecast, stderr, conf_int=results_mean.forecast(steps=10, exog=None, alpha=0.05)"
   ]
  },
  {
   "cell_type": "code",
   "execution_count": 20,
   "metadata": {},
   "outputs": [
    {
     "data": {
      "text/plain": [
       "array([[-0.05983122,  0.521436  ],\n",
       "       [-0.12109172,  0.53700874],\n",
       "       [-0.1432611 ,  0.53492326],\n",
       "       [-0.15247626,  0.53126193],\n",
       "       [-0.15667279,  0.52862254],\n",
       "       [-0.15870644,  0.52702712],\n",
       "       [-0.15973147,  0.52612554],\n",
       "       [-0.16026027,  0.52563153],\n",
       "       [-0.16053667,  0.52536494],\n",
       "       [-0.16068218,  0.52522219]])"
      ]
     },
     "execution_count": 20,
     "metadata": {},
     "output_type": "execute_result"
    }
   ],
   "source": [
    "conf_int"
   ]
  },
  {
   "cell_type": "code",
   "execution_count": 44,
   "metadata": {},
   "outputs": [
    {
     "data": {
      "text/plain": [
       "array([0.14828518, 0.16788586, 0.17300939, 0.17442621, 0.17482345,\n",
       "       0.17493524, 0.17496674, 0.17497561, 0.17497812, 0.17497882])"
      ]
     },
     "execution_count": 44,
     "metadata": {},
     "output_type": "execute_result"
    }
   ],
   "source": [
    "stderr"
   ]
  },
  {
   "cell_type": "code",
   "execution_count": 65,
   "metadata": {},
   "outputs": [],
   "source": [
    "prediction_upper=prediction_mean.copy()\n",
    "prediction_lower=prediction_mean.copy()\n",
    "prediction_upper[-10:]=conf_int[:,1]\n",
    "prediction_lower[-10:]=conf_int[:,0]"
   ]
  },
  {
   "cell_type": "code",
   "execution_count": 66,
   "metadata": {},
   "outputs": [],
   "source": [
    "predictions_ARIMA_diff = pd.Series(prediction_upper, copy = True)\n",
    "predictions_ARIMA_diff_cumsum = predictions_ARIMA_diff.cumsum()\n",
    "Predictions_ARIMA_log = pd.Series(df_log['confirmed'].iloc[0], index = predictions_ARIMA_diff_cumsum.index)\n",
    "Predictions_ARIMA_log = Predictions_ARIMA_log.add(predictions_ARIMA_diff_cumsum, fill_value = 0)\n",
    "Predictions_ARIMA_new_upper = np.exp(Predictions_ARIMA_log)\n",
    "\n",
    "df_pred_upper =Predictions_ARIMA_new_upper.to_frame()\n",
    "df_pred_upper.rename(columns={0:'Predicted'}, inplace=True)"
   ]
  },
  {
   "cell_type": "code",
   "execution_count": 67,
   "metadata": {},
   "outputs": [],
   "source": [
    "predictions_ARIMA_diff = pd.Series(prediction_lower, copy = True)\n",
    "predictions_ARIMA_diff_cumsum = predictions_ARIMA_diff.cumsum()\n",
    "Predictions_ARIMA_log = pd.Series(df_log['confirmed'].iloc[0], index = predictions_ARIMA_diff_cumsum.index)\n",
    "Predictions_ARIMA_log = Predictions_ARIMA_log.add(predictions_ARIMA_diff_cumsum, fill_value = 0)\n",
    "Predictions_ARIMA_new_lower = np.exp(Predictions_ARIMA_log)\n",
    "\n",
    "df_pred_lower =Predictions_ARIMA_new_lower.to_frame()\n",
    "df_pred_lower.rename(columns={0:'Predicted'}, inplace=True)"
   ]
  },
  {
   "cell_type": "code",
   "execution_count": 68,
   "metadata": {},
   "outputs": [
    {
     "data": {
      "application/vnd.plotly.v1+json": {
       "config": {
        "linkText": "Export to plot.ly",
        "plotlyServerURL": "https://plot.ly",
        "showLink": false
       },
       "data": [
        {
         "mode": "markers+lines",
         "name": "Confirmed Cases",
         "type": "scatter",
         "uid": "d3bdf1de-1adf-4183-b857-dd1bc48392f8",
         "x": [
          "2020-01-22",
          "2020-01-23",
          "2020-01-24",
          "2020-01-25",
          "2020-01-26",
          "2020-01-27",
          "2020-01-28",
          "2020-01-29",
          "2020-01-30",
          "2020-01-31",
          "2020-02-01",
          "2020-02-02",
          "2020-02-03",
          "2020-02-04",
          "2020-02-05",
          "2020-02-06",
          "2020-02-07",
          "2020-02-08",
          "2020-02-09",
          "2020-02-10",
          "2020-02-11",
          "2020-02-12",
          "2020-02-13",
          "2020-02-14",
          "2020-02-15",
          "2020-02-16",
          "2020-02-17",
          "2020-02-18",
          "2020-02-19",
          "2020-02-20",
          "2020-02-21",
          "2020-02-22",
          "2020-02-23",
          "2020-02-24",
          "2020-02-25",
          "2020-02-26",
          "2020-02-27",
          "2020-02-28",
          "2020-02-29",
          "2020-03-01",
          "2020-03-02",
          "2020-03-03",
          "2020-03-04",
          "2020-03-05",
          "2020-03-06",
          "2020-03-07",
          "2020-03-08",
          "2020-03-09",
          "2020-03-10",
          "2020-03-11",
          "2020-03-12",
          "2020-03-13",
          "2020-03-14",
          "2020-03-15",
          "2020-03-16",
          "2020-03-17",
          "2020-03-18",
          "2020-03-19",
          "2020-03-20",
          "2020-03-21",
          "2020-03-22"
         ],
         "y": [
          1,
          1,
          2,
          2,
          5,
          5,
          5,
          5,
          5,
          7,
          8,
          8,
          11,
          11,
          11,
          11,
          11,
          11,
          11,
          11,
          12,
          12,
          13,
          13,
          13,
          13,
          13,
          13,
          13,
          13,
          15,
          15,
          15,
          51,
          51,
          57,
          58,
          60,
          68,
          74,
          98,
          118,
          149,
          217,
          262,
          402,
          518,
          583,
          959,
          1281,
          1663,
          2179,
          2727,
          3499,
          4632,
          6421,
          7783,
          13677,
          19100,
          25489,
          33272
         ]
        },
        {
         "mode": "markers+lines",
         "name": "Predicted Cases",
         "type": "scatter",
         "uid": "ee77ded1-4bf3-443d-84a3-93f71cc0c6cd",
         "x": [
          "2020-01-24",
          "2020-01-25",
          "2020-01-26",
          "2020-01-27",
          "2020-01-28",
          "2020-01-29",
          "2020-01-30",
          "2020-01-31",
          "2020-02-01",
          "2020-02-02",
          "2020-02-03",
          "2020-02-04",
          "2020-02-05",
          "2020-02-06",
          "2020-02-07",
          "2020-02-08",
          "2020-02-09",
          "2020-02-10",
          "2020-02-11",
          "2020-02-12",
          "2020-02-13",
          "2020-02-14",
          "2020-02-15",
          "2020-02-16",
          "2020-02-17",
          "2020-02-18",
          "2020-02-19",
          "2020-02-20",
          "2020-02-21",
          "2020-02-22",
          "2020-02-23",
          "2020-02-24",
          "2020-02-25",
          "2020-02-26",
          "2020-02-27",
          "2020-02-28",
          "2020-02-29",
          "2020-03-01",
          "2020-03-02",
          "2020-03-03",
          "2020-03-04",
          "2020-03-05",
          "2020-03-06",
          "2020-03-07",
          "2020-03-08",
          "2020-03-09",
          "2020-03-10",
          "2020-03-11",
          "2020-03-12",
          "2020-03-13",
          "2020-03-14",
          "2020-03-15",
          "2020-03-16",
          "2020-03-17",
          "2020-03-18",
          "2020-03-19",
          "2020-03-20",
          "2020-03-21",
          "2020-03-22",
          "2020-03-23",
          "2020-03-24",
          "2020-03-25",
          "2020-03-26",
          "2020-03-27",
          "2020-03-28",
          "2020-03-29",
          "2020-03-30",
          "2020-03-31"
         ],
         "y": [
          1,
          1,
          2,
          3,
          3,
          4,
          4,
          5,
          6,
          7,
          8,
          10,
          11,
          13,
          14,
          15,
          16,
          18,
          19,
          22,
          24,
          27,
          30,
          33,
          36,
          39,
          43,
          47,
          51,
          58,
          65,
          71,
          119,
          162,
          183,
          205,
          227,
          260,
          298,
          364,
          445,
          544,
          706,
          878,
          1151,
          1479,
          1757,
          2331,
          3072,
          3862,
          4848,
          5997,
          7423,
          9332,
          11991,
          14812,
          20378,
          27601,
          35323,
          44493,
          54778,
          66628,
          80521,
          96979,
          116589,
          140029,
          168096,
          201734
         ]
        },
        {
         "line": {
          "dash": "dash"
         },
         "mode": "lines",
         "name": "Predicted Upper CI",
         "type": "scatter",
         "uid": "e65f0061-fd88-458a-b504-28d94da82b8f",
         "x": [
          "2020-03-22",
          "2020-03-23",
          "2020-03-24",
          "2020-03-25",
          "2020-03-26",
          "2020-03-27",
          "2020-03-28",
          "2020-03-29",
          "2020-03-30",
          "2020-03-31"
         ],
         "y": [
          46493.605494923424,
          79545.04999803848,
          135808.63364248362,
          231021.02361086739,
          391948.81658826553,
          663917.8226207548,
          1123589.6934068946,
          1900582.0426891393,
          3214028.44963337,
          5434390.170588098
         ]
        },
        {
         "line": {
          "dash": "dash"
         },
         "mode": "lines",
         "name": "Predicted Lower CI",
         "type": "scatter",
         "uid": "dc91ede2-4864-4e0d-92fc-07112b9cf7a0",
         "x": [
          "2020-03-22",
          "2020-03-23",
          "2020-03-24",
          "2020-03-25",
          "2020-03-26",
          "2020-03-27",
          "2020-03-28",
          "2020-03-29",
          "2020-03-30",
          "2020-03-31"
         ],
         "y": [
          25998.726986569745,
          23033.64221014013,
          19959.290997562548,
          17136.63355629542,
          14651.543580505813,
          12501.382728852022,
          10655.836659079569,
          9077.9420072122,
          7731.561510985003,
          6583.909172133199
         ]
        }
       ],
       "layout": {
        "title": {
         "text": " Future Forecast of Confirmed Cases in USA<br>"
        },
        "xaxis": {
         "automargin": true,
         "tickangle": -45,
         "tickfont": {
          "size": 4
         },
         "title": {
          "font": {
           "color": "black"
          },
          "text": "Date"
         }
        }
       }
      },
      "text/html": [
       "<div>\n",
       "        \n",
       "        \n",
       "            <div id=\"519ef1bb-cd6f-46b9-9091-7c4c7811df18\" class=\"plotly-graph-div\" style=\"height:525px; width:100%;\"></div>\n",
       "            <script type=\"text/javascript\">\n",
       "                require([\"plotly\"], function(Plotly) {\n",
       "                    window.PLOTLYENV=window.PLOTLYENV || {};\n",
       "                    window.PLOTLYENV.BASE_URL='https://plot.ly';\n",
       "                    \n",
       "                if (document.getElementById(\"519ef1bb-cd6f-46b9-9091-7c4c7811df18\")) {\n",
       "                    Plotly.newPlot(\n",
       "                        '519ef1bb-cd6f-46b9-9091-7c4c7811df18',\n",
       "                        [{\"mode\": \"markers+lines\", \"name\": \"Confirmed Cases\", \"type\": \"scatter\", \"uid\": \"d3bdf1de-1adf-4183-b857-dd1bc48392f8\", \"x\": [\"2020-01-22\", \"2020-01-23\", \"2020-01-24\", \"2020-01-25\", \"2020-01-26\", \"2020-01-27\", \"2020-01-28\", \"2020-01-29\", \"2020-01-30\", \"2020-01-31\", \"2020-02-01\", \"2020-02-02\", \"2020-02-03\", \"2020-02-04\", \"2020-02-05\", \"2020-02-06\", \"2020-02-07\", \"2020-02-08\", \"2020-02-09\", \"2020-02-10\", \"2020-02-11\", \"2020-02-12\", \"2020-02-13\", \"2020-02-14\", \"2020-02-15\", \"2020-02-16\", \"2020-02-17\", \"2020-02-18\", \"2020-02-19\", \"2020-02-20\", \"2020-02-21\", \"2020-02-22\", \"2020-02-23\", \"2020-02-24\", \"2020-02-25\", \"2020-02-26\", \"2020-02-27\", \"2020-02-28\", \"2020-02-29\", \"2020-03-01\", \"2020-03-02\", \"2020-03-03\", \"2020-03-04\", \"2020-03-05\", \"2020-03-06\", \"2020-03-07\", \"2020-03-08\", \"2020-03-09\", \"2020-03-10\", \"2020-03-11\", \"2020-03-12\", \"2020-03-13\", \"2020-03-14\", \"2020-03-15\", \"2020-03-16\", \"2020-03-17\", \"2020-03-18\", \"2020-03-19\", \"2020-03-20\", \"2020-03-21\", \"2020-03-22\"], \"y\": [1, 1, 2, 2, 5, 5, 5, 5, 5, 7, 8, 8, 11, 11, 11, 11, 11, 11, 11, 11, 12, 12, 13, 13, 13, 13, 13, 13, 13, 13, 15, 15, 15, 51, 51, 57, 58, 60, 68, 74, 98, 118, 149, 217, 262, 402, 518, 583, 959, 1281, 1663, 2179, 2727, 3499, 4632, 6421, 7783, 13677, 19100, 25489, 33272]}, {\"mode\": \"markers+lines\", \"name\": \"Predicted Cases\", \"type\": \"scatter\", \"uid\": \"ee77ded1-4bf3-443d-84a3-93f71cc0c6cd\", \"x\": [\"2020-01-24\", \"2020-01-25\", \"2020-01-26\", \"2020-01-27\", \"2020-01-28\", \"2020-01-29\", \"2020-01-30\", \"2020-01-31\", \"2020-02-01\", \"2020-02-02\", \"2020-02-03\", \"2020-02-04\", \"2020-02-05\", \"2020-02-06\", \"2020-02-07\", \"2020-02-08\", \"2020-02-09\", \"2020-02-10\", \"2020-02-11\", \"2020-02-12\", \"2020-02-13\", \"2020-02-14\", \"2020-02-15\", \"2020-02-16\", \"2020-02-17\", \"2020-02-18\", \"2020-02-19\", \"2020-02-20\", \"2020-02-21\", \"2020-02-22\", \"2020-02-23\", \"2020-02-24\", \"2020-02-25\", \"2020-02-26\", \"2020-02-27\", \"2020-02-28\", \"2020-02-29\", \"2020-03-01\", \"2020-03-02\", \"2020-03-03\", \"2020-03-04\", \"2020-03-05\", \"2020-03-06\", \"2020-03-07\", \"2020-03-08\", \"2020-03-09\", \"2020-03-10\", \"2020-03-11\", \"2020-03-12\", \"2020-03-13\", \"2020-03-14\", \"2020-03-15\", \"2020-03-16\", \"2020-03-17\", \"2020-03-18\", \"2020-03-19\", \"2020-03-20\", \"2020-03-21\", \"2020-03-22\", \"2020-03-23\", \"2020-03-24\", \"2020-03-25\", \"2020-03-26\", \"2020-03-27\", \"2020-03-28\", \"2020-03-29\", \"2020-03-30\", \"2020-03-31\"], \"y\": [1, 1, 2, 3, 3, 4, 4, 5, 6, 7, 8, 10, 11, 13, 14, 15, 16, 18, 19, 22, 24, 27, 30, 33, 36, 39, 43, 47, 51, 58, 65, 71, 119, 162, 183, 205, 227, 260, 298, 364, 445, 544, 706, 878, 1151, 1479, 1757, 2331, 3072, 3862, 4848, 5997, 7423, 9332, 11991, 14812, 20378, 27601, 35323, 44493, 54778, 66628, 80521, 96979, 116589, 140029, 168096, 201734]}, {\"line\": {\"dash\": \"dash\"}, \"mode\": \"lines\", \"name\": \"Predicted Upper CI\", \"type\": \"scatter\", \"uid\": \"e65f0061-fd88-458a-b504-28d94da82b8f\", \"x\": [\"2020-03-22\", \"2020-03-23\", \"2020-03-24\", \"2020-03-25\", \"2020-03-26\", \"2020-03-27\", \"2020-03-28\", \"2020-03-29\", \"2020-03-30\", \"2020-03-31\"], \"y\": [46493.605494923424, 79545.04999803848, 135808.63364248362, 231021.02361086739, 391948.81658826553, 663917.8226207548, 1123589.6934068946, 1900582.0426891393, 3214028.44963337, 5434390.170588098]}, {\"line\": {\"dash\": \"dash\"}, \"mode\": \"lines\", \"name\": \"Predicted Lower CI\", \"type\": \"scatter\", \"uid\": \"dc91ede2-4864-4e0d-92fc-07112b9cf7a0\", \"x\": [\"2020-03-22\", \"2020-03-23\", \"2020-03-24\", \"2020-03-25\", \"2020-03-26\", \"2020-03-27\", \"2020-03-28\", \"2020-03-29\", \"2020-03-30\", \"2020-03-31\"], \"y\": [25998.726986569745, 23033.64221014013, 19959.290997562548, 17136.63355629542, 14651.543580505813, 12501.382728852022, 10655.836659079569, 9077.9420072122, 7731.561510985003, 6583.909172133199]}],\n",
       "                        {\"title\": {\"text\": \" Future Forecast of Confirmed Cases in USA<br>\"}, \"xaxis\": {\"automargin\": true, \"tickangle\": -45, \"tickfont\": {\"size\": 4}, \"title\": {\"font\": {\"color\": \"black\"}, \"text\": \"Date\"}}},\n",
       "                        {\"showLink\": false, \"linkText\": \"Export to plot.ly\", \"plotlyServerURL\": \"https://plot.ly\", \"responsive\": true}\n",
       "                    ).then(function(){\n",
       "                            \n",
       "var gd = document.getElementById('519ef1bb-cd6f-46b9-9091-7c4c7811df18');\n",
       "var x = new MutationObserver(function (mutations, observer) {{\n",
       "        var display = window.getComputedStyle(gd).display;\n",
       "        if (!display || display === 'none') {{\n",
       "            console.log([gd, 'removed!']);\n",
       "            Plotly.purge(gd);\n",
       "            observer.disconnect();\n",
       "        }}\n",
       "}});\n",
       "\n",
       "// Listen for the removal of the full notebook cells\n",
       "var notebookContainer = gd.closest('#notebook-container');\n",
       "if (notebookContainer) {{\n",
       "    x.observe(notebookContainer, {childList: true});\n",
       "}}\n",
       "\n",
       "// Listen for the clearing of the current output cell\n",
       "var outputEl = gd.closest('.output');\n",
       "if (outputEl) {{\n",
       "    x.observe(outputEl, {childList: true});\n",
       "}}\n",
       "\n",
       "                        })\n",
       "                };\n",
       "                });\n",
       "            </script>\n",
       "        </div>"
      ]
     },
     "metadata": {},
     "output_type": "display_data"
    }
   ],
   "source": [
    "trace0 = go.Scatter(y = df['confirmed'],x = df.index,mode = 'markers+lines',name = 'Confirmed Cases')\n",
    "trace1 = go.Scatter(y = df_pred['Predicted'],x = df_pred.index, mode = 'markers+lines',name = 'Predicted Cases')\n",
    "trace2 = go.Scatter(y = df_pred_upper['Predicted'][-10:],x = df_pred_upper.index[-10:], mode = 'lines',line={'dash': 'dash'},name = 'Predicted Upper CI')\n",
    "trace3 = go.Scatter(y = df_pred_lower['Predicted'][-10:],x = df_pred_lower.index[-10:], mode = 'lines',line={'dash': 'dash'},name = 'Predicted Lower CI')\n",
    "\n",
    "\n",
    "\n",
    "data = [trace0, trace1, trace2, trace3]\n",
    "layout = dict(\n",
    "    title = ' Future Forecast of Confirmed Cases in USA'+'<br>', \n",
    "    xaxis=dict(\n",
    "        title= dict(text = 'Date',font = dict(color = 'black')),\n",
    "        tickangle = -45,\n",
    "        tickfont=dict(size = 4),\n",
    "        automargin=True)\n",
    ")\n",
    "\n",
    "fig = go.Figure(data, layout)\n",
    "off.iplot(fig)\n",
    "fig.write_html('Plots/CB_Future Prediction_USA.html')    # save as html file\n",
    "fig.write_image('Plots/CB_Future Prediction_USA.pdf')    # save as image file"
   ]
  },
  {
   "cell_type": "code",
   "execution_count": null,
   "metadata": {},
   "outputs": [],
   "source": []
  }
 ],
 "metadata": {
  "kernelspec": {
   "display_name": "Python 3",
   "language": "python",
   "name": "python3"
  },
  "language_info": {
   "codemirror_mode": {
    "name": "ipython",
    "version": 3
   },
   "file_extension": ".py",
   "mimetype": "text/x-python",
   "name": "python",
   "nbconvert_exporter": "python",
   "pygments_lexer": "ipython3",
   "version": "3.7.1"
  }
 },
 "nbformat": 4,
 "nbformat_minor": 2
}
